{
 "cells": [
  {
   "cell_type": "markdown",
   "metadata": {},
   "source": [
    "# ¿Qué vende un coche?\n",
    "\n",
    "Eres un analista en Crankshaft List. Cientos de anuncios gratuitos de vehículos se publican en tu sitio web cada día. Necesitas estudiar los datos recopilados durante los últimos años y determinar qué factores influyen en el precio de un vehículo."
   ]
  },
  {
   "cell_type": "markdown",
   "metadata": {},
   "source": [
    "El proposito del proyecto es llevar a cabo el análisis exploratorio del dataset que nos presentan y generar conclusiones que den valor"
   ]
  },
  {
   "cell_type": "markdown",
   "metadata": {},
   "source": [
    "## Inicialización"
   ]
  },
  {
   "cell_type": "markdown",
   "metadata": {},
   "source": [
    "Para realizar nuestro análisis vamos a cargar las siguientes librerias:\n",
    "\n",
    "1. Pandas (Análisis y manipulación de datos)\n",
    "2. Numpy (Cálculo Numérico)\n",
    "3. Pyplot (Visualizaciones)"
   ]
  },
  {
   "cell_type": "code",
   "execution_count": 1,
   "metadata": {
    "ExecuteTime": {
     "end_time": "2023-07-18T04:20:11.679910400Z",
     "start_time": "2023-07-18T04:20:11.657913400Z"
    }
   },
   "outputs": [],
   "source": [
    "# Cargar todas las librerías\n",
    "import pandas as pd\n",
    "import numpy as np\n",
    "import matplotlib.pyplot as plt\n",
    "import seaborn as sns"
   ]
  },
  {
   "cell_type": "markdown",
   "metadata": {},
   "source": [
    "### Cargar datos"
   ]
  },
  {
   "cell_type": "markdown",
   "metadata": {},
   "source": [
    "Cargamos los datos desde el archivo csv"
   ]
  },
  {
   "cell_type": "code",
   "execution_count": 2,
   "metadata": {
    "ExecuteTime": {
     "end_time": "2023-07-18T04:20:11.810924100Z",
     "start_time": "2023-07-18T04:20:11.674914Z"
    }
   },
   "outputs": [],
   "source": [
    "# Carga el archivo de datos en un DataFrame\n",
    "data = pd.read_csv('data/vehicles_us.csv')"
   ]
  },
  {
   "cell_type": "markdown",
   "metadata": {},
   "source": [
    "### Explorar datos iniciales"
   ]
  },
  {
   "cell_type": "markdown",
   "metadata": {},
   "source": [
    "El dataset contiene los siguientes campos:\n",
    "- `price`\n",
    "- `model_year`\n",
    "- `model`\n",
    "- `condition`\n",
    "- `cylinders`\n",
    "- `fuel` — gasolina, diesel, etc.\n",
    "- `odometer` — el millaje del vehículo cuando el anuncio fue publicado\n",
    "- `transmission`\n",
    "- `paint_color`\n",
    "- `is_4wd` — si el vehículo tiene tracción a las 4 ruedas (tipo Booleano)\n",
    "- `date_posted` — la fecha en la que el anuncio fue publicado\n",
    "- `days_listed` — desde la publicación hasta que se elimina\n",
    "\n",
    "Vemos un resumen del dataset y una muestra de 10 elementos"
   ]
  },
  {
   "cell_type": "code",
   "execution_count": 3,
   "metadata": {
    "ExecuteTime": {
     "end_time": "2023-07-18T04:20:11.909913100Z",
     "start_time": "2023-07-18T04:20:11.814913300Z"
    }
   },
   "outputs": [
    {
     "name": "stdout",
     "output_type": "stream",
     "text": [
      "<class 'pandas.core.frame.DataFrame'>\n",
      "RangeIndex: 51525 entries, 0 to 51524\n",
      "Data columns (total 13 columns):\n",
      " #   Column        Non-Null Count  Dtype  \n",
      "---  ------        --------------  -----  \n",
      " 0   price         51525 non-null  int64  \n",
      " 1   model_year    47906 non-null  float64\n",
      " 2   model         51525 non-null  object \n",
      " 3   condition     51525 non-null  object \n",
      " 4   cylinders     46265 non-null  float64\n",
      " 5   fuel          51525 non-null  object \n",
      " 6   odometer      43633 non-null  float64\n",
      " 7   transmission  51525 non-null  object \n",
      " 8   type          51525 non-null  object \n",
      " 9   paint_color   42258 non-null  object \n",
      " 10  is_4wd        25572 non-null  float64\n",
      " 11  date_posted   51525 non-null  object \n",
      " 12  days_listed   51525 non-null  int64  \n",
      "dtypes: float64(4), int64(2), object(7)\n",
      "memory usage: 5.1+ MB\n"
     ]
    }
   ],
   "source": [
    "# imprime la información general/resumida sobre el DataFrame\n",
    "data.info()"
   ]
  },
  {
   "cell_type": "code",
   "execution_count": 4,
   "metadata": {
    "ExecuteTime": {
     "end_time": "2023-07-18T04:20:12.058912Z",
     "start_time": "2023-07-18T04:20:11.912912Z"
    }
   },
   "outputs": [
    {
     "data": {
      "text/plain": "   price  model_year           model  condition  cylinders fuel  odometer  \\\n0   9400      2011.0          bmw x5       good        6.0  gas  145000.0   \n1  25500         NaN      ford f-150       good        6.0  gas   88705.0   \n2   5500      2013.0  hyundai sonata   like new        4.0  gas  110000.0   \n3   1500      2003.0      ford f-150       fair        8.0  gas       NaN   \n4  14900      2017.0    chrysler 200  excellent        4.0  gas   80903.0   \n5  14990      2014.0    chrysler 300  excellent        6.0  gas   57954.0   \n6  12990      2015.0    toyota camry  excellent        4.0  gas   79212.0   \n7  15990      2013.0     honda pilot  excellent        6.0  gas  109473.0   \n8  11500      2012.0     kia sorento  excellent        4.0  gas  104174.0   \n9   9200      2008.0     honda pilot  excellent        NaN  gas  147191.0   \n\n  transmission    type paint_color  is_4wd date_posted  days_listed  \n0    automatic     SUV         NaN     1.0  2018-06-23           19  \n1    automatic  pickup       white     1.0  2018-10-19           50  \n2    automatic   sedan         red     NaN  2019-02-07           79  \n3    automatic  pickup         NaN     NaN  2019-03-22            9  \n4    automatic   sedan       black     NaN  2019-04-02           28  \n5    automatic   sedan       black     1.0  2018-06-20           15  \n6    automatic   sedan       white     NaN  2018-12-27           73  \n7    automatic     SUV       black     1.0  2019-01-07           68  \n8    automatic     SUV         NaN     1.0  2018-07-16           19  \n9    automatic     SUV        blue     1.0  2019-02-15           17  ",
      "text/html": "<div>\n<style scoped>\n    .dataframe tbody tr th:only-of-type {\n        vertical-align: middle;\n    }\n\n    .dataframe tbody tr th {\n        vertical-align: top;\n    }\n\n    .dataframe thead th {\n        text-align: right;\n    }\n</style>\n<table border=\"1\" class=\"dataframe\">\n  <thead>\n    <tr style=\"text-align: right;\">\n      <th></th>\n      <th>price</th>\n      <th>model_year</th>\n      <th>model</th>\n      <th>condition</th>\n      <th>cylinders</th>\n      <th>fuel</th>\n      <th>odometer</th>\n      <th>transmission</th>\n      <th>type</th>\n      <th>paint_color</th>\n      <th>is_4wd</th>\n      <th>date_posted</th>\n      <th>days_listed</th>\n    </tr>\n  </thead>\n  <tbody>\n    <tr>\n      <th>0</th>\n      <td>9400</td>\n      <td>2011.0</td>\n      <td>bmw x5</td>\n      <td>good</td>\n      <td>6.0</td>\n      <td>gas</td>\n      <td>145000.0</td>\n      <td>automatic</td>\n      <td>SUV</td>\n      <td>NaN</td>\n      <td>1.0</td>\n      <td>2018-06-23</td>\n      <td>19</td>\n    </tr>\n    <tr>\n      <th>1</th>\n      <td>25500</td>\n      <td>NaN</td>\n      <td>ford f-150</td>\n      <td>good</td>\n      <td>6.0</td>\n      <td>gas</td>\n      <td>88705.0</td>\n      <td>automatic</td>\n      <td>pickup</td>\n      <td>white</td>\n      <td>1.0</td>\n      <td>2018-10-19</td>\n      <td>50</td>\n    </tr>\n    <tr>\n      <th>2</th>\n      <td>5500</td>\n      <td>2013.0</td>\n      <td>hyundai sonata</td>\n      <td>like new</td>\n      <td>4.0</td>\n      <td>gas</td>\n      <td>110000.0</td>\n      <td>automatic</td>\n      <td>sedan</td>\n      <td>red</td>\n      <td>NaN</td>\n      <td>2019-02-07</td>\n      <td>79</td>\n    </tr>\n    <tr>\n      <th>3</th>\n      <td>1500</td>\n      <td>2003.0</td>\n      <td>ford f-150</td>\n      <td>fair</td>\n      <td>8.0</td>\n      <td>gas</td>\n      <td>NaN</td>\n      <td>automatic</td>\n      <td>pickup</td>\n      <td>NaN</td>\n      <td>NaN</td>\n      <td>2019-03-22</td>\n      <td>9</td>\n    </tr>\n    <tr>\n      <th>4</th>\n      <td>14900</td>\n      <td>2017.0</td>\n      <td>chrysler 200</td>\n      <td>excellent</td>\n      <td>4.0</td>\n      <td>gas</td>\n      <td>80903.0</td>\n      <td>automatic</td>\n      <td>sedan</td>\n      <td>black</td>\n      <td>NaN</td>\n      <td>2019-04-02</td>\n      <td>28</td>\n    </tr>\n    <tr>\n      <th>5</th>\n      <td>14990</td>\n      <td>2014.0</td>\n      <td>chrysler 300</td>\n      <td>excellent</td>\n      <td>6.0</td>\n      <td>gas</td>\n      <td>57954.0</td>\n      <td>automatic</td>\n      <td>sedan</td>\n      <td>black</td>\n      <td>1.0</td>\n      <td>2018-06-20</td>\n      <td>15</td>\n    </tr>\n    <tr>\n      <th>6</th>\n      <td>12990</td>\n      <td>2015.0</td>\n      <td>toyota camry</td>\n      <td>excellent</td>\n      <td>4.0</td>\n      <td>gas</td>\n      <td>79212.0</td>\n      <td>automatic</td>\n      <td>sedan</td>\n      <td>white</td>\n      <td>NaN</td>\n      <td>2018-12-27</td>\n      <td>73</td>\n    </tr>\n    <tr>\n      <th>7</th>\n      <td>15990</td>\n      <td>2013.0</td>\n      <td>honda pilot</td>\n      <td>excellent</td>\n      <td>6.0</td>\n      <td>gas</td>\n      <td>109473.0</td>\n      <td>automatic</td>\n      <td>SUV</td>\n      <td>black</td>\n      <td>1.0</td>\n      <td>2019-01-07</td>\n      <td>68</td>\n    </tr>\n    <tr>\n      <th>8</th>\n      <td>11500</td>\n      <td>2012.0</td>\n      <td>kia sorento</td>\n      <td>excellent</td>\n      <td>4.0</td>\n      <td>gas</td>\n      <td>104174.0</td>\n      <td>automatic</td>\n      <td>SUV</td>\n      <td>NaN</td>\n      <td>1.0</td>\n      <td>2018-07-16</td>\n      <td>19</td>\n    </tr>\n    <tr>\n      <th>9</th>\n      <td>9200</td>\n      <td>2008.0</td>\n      <td>honda pilot</td>\n      <td>excellent</td>\n      <td>NaN</td>\n      <td>gas</td>\n      <td>147191.0</td>\n      <td>automatic</td>\n      <td>SUV</td>\n      <td>blue</td>\n      <td>1.0</td>\n      <td>2019-02-15</td>\n      <td>17</td>\n    </tr>\n  </tbody>\n</table>\n</div>"
     },
     "execution_count": 4,
     "metadata": {},
     "output_type": "execute_result"
    }
   ],
   "source": [
    "# imprimir una muestra de datos\n",
    "data.head(10)"
   ]
  },
  {
   "cell_type": "markdown",
   "metadata": {},
   "source": [
    "Podemos notar que contamos con 13 columnas de datos y con un total de 51525 filas. A primera vista se necesita cambiar el tipo de dato de `date_posted` a fecha ya que esta en tipo string y tambien de `is_4wd` ya que deberia ser booleano. Tambien deberiamos hacer ajustes en las columnas `model_year`, `cylinders` y `odometer` ya que funcionarian mejor como enteros que como flotantes."
   ]
  },
  {
   "cell_type": "code",
   "execution_count": 5,
   "metadata": {
    "ExecuteTime": {
     "end_time": "2023-07-18T04:20:12.059911100Z",
     "start_time": "2023-07-18T04:20:11.959914900Z"
    }
   },
   "outputs": [
    {
     "data": {
      "text/plain": "price            0.000000\nmodel_year       7.023775\nmodel            0.000000\ncondition        0.000000\ncylinders       10.208637\nfuel             0.000000\nodometer        15.316836\ntransmission     0.000000\ntype             0.000000\npaint_color     17.985444\nis_4wd          50.369723\ndate_posted      0.000000\ndays_listed      0.000000\ndtype: float64"
     },
     "execution_count": 5,
     "metadata": {},
     "output_type": "execute_result"
    }
   ],
   "source": [
    "data.isna().sum() / data.shape[0] * 100"
   ]
  },
  {
   "cell_type": "markdown",
   "metadata": {},
   "source": [
    "Respecto a valores ausentes, tenemos que las columnas `model_year`, `cylinders`, `odometer`, `paint_color` y `is_4wd`presentan esta situaciòn. La columna `is_4wd`presenta el mayor número de ausentes con un 50% de los datos faltantes"
   ]
  },
  {
   "cell_type": "markdown",
   "metadata": {},
   "source": [
    "### Conclusiones iniciales y próximos pasos\n",
    "\n",
    "Como pudimos ver, tenemos bastante información para poder hacer nuestro análisis, sin embargo hay puntos criticos que tenemos que resolver antes de proceder (por ejemplo, los valores ausentes). En un primer momento, que la columna `is_4wd` tenga casi la mitad de valores ausentes puede resultar alarmante, sin embargo al ser una columna booleana es razonable pensar que los valores vacios son False o 0 (viendo la distrubición apoya esta teoria).\n",
    "\n",
    "Dicho esto, nuestros siguientes pasos seran:\n",
    "\n",
    "1. Resolver los valores asuentes en el dataset\n",
    "2. Ajustar las columnas que identificamos a un tipo más acorde para el análisis"
   ]
  },
  {
   "cell_type": "markdown",
   "metadata": {},
   "source": [
    "## Tratar los valores ausentes (si hay)"
   ]
  },
  {
   "cell_type": "markdown",
   "metadata": {},
   "source": [
    "Empecemos con los valores ausentes. Tenemos las siguientes columnas y las hipotesis de porque tienen datos ausentes:\n",
    "\n",
    "1. `is_4wd`: Los datos ausentes representan los vehiculos que no tiene tracción a las 4 ruedas  (False)\n",
    "2. `model_year`: Puede ser un error al ingresar los datos, que el dueño desconozca esta fecha o quiera ocultarla intencionalmente o que el año del vehiculo es más viejo a cierto año\n",
    "3. `cylinders`: Pueder ser un error al ingresar los datos o el dueño desconocia este dato de su vehiculo\n",
    "4. `odometer`: Pueder ser un error al ingresar los datos o el dueño no quiso revelar esta información\n",
    "5. `paint_color`: Puede ser un error al ingresar los datos"
   ]
  },
  {
   "cell_type": "code",
   "execution_count": 6,
   "metadata": {
    "ExecuteTime": {
     "end_time": "2023-07-18T04:20:12.194910800Z",
     "start_time": "2023-07-18T04:20:12.041916300Z"
    }
   },
   "outputs": [
    {
     "name": "stdout",
     "output_type": "stream",
     "text": [
      "Valores ausentes en la columna: 0\n",
      "\n",
      "0.0    25953\n",
      "1.0    25572\n",
      "Name: is_4wd, dtype: int64\n"
     ]
    }
   ],
   "source": [
    "## Columna is_4wd\n",
    "\n",
    "# Cambiamos todos los valores vacios a valores con valor 0 para convertir luego esta columna a booleno\n",
    "data.is_4wd = data.is_4wd.fillna(0)\n",
    "# Verificamos que la columna ya no tenga valores ausentes\n",
    "print('Valores ausentes en la columna:', data.is_4wd.isna().sum())\n",
    "print()\n",
    "# Vemos la distribución de los datos\n",
    "print(data.is_4wd.value_counts())"
   ]
  },
  {
   "cell_type": "code",
   "execution_count": 7,
   "metadata": {
    "ExecuteTime": {
     "end_time": "2023-07-18T04:20:12.195912800Z",
     "start_time": "2023-07-18T04:20:12.072918400Z"
    }
   },
   "outputs": [
    {
     "data": {
      "text/plain": "array([2011.,   nan, 2013., 2003., 2017., 2014., 2015., 2012., 2008.,\n       2018., 2009., 2010., 2007., 2004., 2005., 2001., 2006., 1966.,\n       1994., 2019., 2000., 2016., 1993., 1999., 1997., 2002., 1981.,\n       1995., 1996., 1975., 1998., 1985., 1977., 1987., 1974., 1990.,\n       1992., 1991., 1972., 1967., 1988., 1969., 1989., 1978., 1965.,\n       1979., 1968., 1986., 1980., 1964., 1963., 1984., 1982., 1973.,\n       1970., 1955., 1971., 1976., 1983., 1954., 1962., 1948., 1960.,\n       1908., 1961., 1936., 1949., 1958., 1929.])"
     },
     "execution_count": 7,
     "metadata": {},
     "output_type": "execute_result"
    }
   ],
   "source": [
    "## Columna model_year\n",
    "\n",
    "# Checamos los datos presentes en la columna\n",
    "data.model_year.unique()"
   ]
  },
  {
   "cell_type": "markdown",
   "metadata": {},
   "source": [
    "Podemos ver que tenemos autos de todas las epocas, incluso de los años 20s! Habra que checar esas filas más adelante sin embargo esto nos hace ver que nuestra hipotesis de que los vacios eran para identificar a vehiculos viejos queda descartada; sin embargo al ver que hay autos tan viejos en la lista otra hipotesis que surge es que los dueños realmente no saben el año del auto."
   ]
  },
  {
   "cell_type": "code",
   "execution_count": 8,
   "metadata": {
    "ExecuteTime": {
     "end_time": "2023-07-18T04:20:12.195912800Z",
     "start_time": "2023-07-18T04:20:12.086913600Z"
    }
   },
   "outputs": [
    {
     "data": {
      "text/plain": "7.023774866569626"
     },
     "execution_count": 8,
     "metadata": {},
     "output_type": "execute_result"
    }
   ],
   "source": [
    "# Checamos el porcentaje de ausentes que representan para esta columna\n",
    "data.model_year.isna().sum() / data.shape[0] * 100"
   ]
  },
  {
   "cell_type": "markdown",
   "metadata": {},
   "source": [
    "Ya que no podemos inferir el año del auto y representan el 7% del total de la columna, se decide borrar estos datos del dataset."
   ]
  },
  {
   "cell_type": "code",
   "execution_count": 9,
   "metadata": {
    "ExecuteTime": {
     "end_time": "2023-07-18T04:20:12.263912Z",
     "start_time": "2023-07-18T04:20:12.098915100Z"
    }
   },
   "outputs": [
    {
     "name": "stdout",
     "output_type": "stream",
     "text": [
      "Valores ausentes en la columna: 0\n"
     ]
    }
   ],
   "source": [
    "# Borramos las filas del dataset\n",
    "data = data[data.model_year.notnull()]\n",
    "\n",
    "# Verificamos que la columna ya no tenga datos ausentes\n",
    "print('Valores ausentes en la columna:', data.model_year.isna().sum())"
   ]
  },
  {
   "cell_type": "code",
   "execution_count": 10,
   "metadata": {
    "ExecuteTime": {
     "end_time": "2023-07-18T04:20:12.265915Z",
     "start_time": "2023-07-18T04:20:12.135912700Z"
    }
   },
   "outputs": [
    {
     "name": "stdout",
     "output_type": "stream",
     "text": [
      "8.0     14705\n",
      "6.0     14648\n",
      "4.0     12856\n",
      "NaN      4897\n",
      "10.0      517\n",
      "5.0       248\n",
      "3.0        33\n",
      "12.0        2\n",
      "Name: cylinders, dtype: int64\n",
      "\n",
      "% de ausentes en cylinders: 10.222101615664009\n"
     ]
    }
   ],
   "source": [
    "## Columna cylinders\n",
    "\n",
    "# Checamos los datos presentes en la columna\n",
    "print(data.cylinders.value_counts(dropna=False))\n",
    "print()\n",
    "# Checamos el porcentaje de ausentes que representan para esta columna\n",
    "print('% de ausentes en cylinders:', data.cylinders.isna().sum() / data.shape[0] * 100)"
   ]
  },
  {
   "cell_type": "markdown",
   "metadata": {},
   "source": [
    "Como podemos observar tenemos 4897 datos ausentes que representan el 10% de nuestros datos totales. A diferencia de la otra columna, poder inferir los cilindros de los autos gracias a nuestra columna de modelos. Generalmente los modelos de autos conservan los mismos cilindros a traves de los años con algunas excepciones, por lo que podemos generar una tabla con los modelos y sus cilindros y ocuparla para rellenar nuestros datos"
   ]
  },
  {
   "cell_type": "code",
   "execution_count": 11,
   "metadata": {
    "ExecuteTime": {
     "end_time": "2023-07-18T04:20:12.265915Z",
     "start_time": "2023-07-18T04:20:12.164913800Z"
    }
   },
   "outputs": [
    {
     "data": {
      "text/plain": "model\nacura tl             6.0\nbmw x5               6.0\nbuick enclave        6.0\ncadillac escalade    8.0\nchevrolet camaro     6.0\n                    ... \ntoyota sienna        6.0\ntoyota tacoma        6.0\ntoyota tundra        8.0\nvolkswagen jetta     4.0\nvolkswagen passat    4.0\nName: cylinders, Length: 100, dtype: float64"
     },
     "execution_count": 11,
     "metadata": {},
     "output_type": "execute_result"
    }
   ],
   "source": [
    "# Creamos una tabla con los modelos y su mediana de cilindros\n",
    "cylinders_bymodel = data[data.cylinders.notnull()].groupby(['model'])['cylinders'].median()\n",
    "cylinders_bymodel"
   ]
  },
  {
   "cell_type": "code",
   "execution_count": 12,
   "metadata": {
    "ExecuteTime": {
     "end_time": "2023-07-18T04:20:12.561910800Z",
     "start_time": "2023-07-18T04:20:12.214912800Z"
    }
   },
   "outputs": [],
   "source": [
    "#  Función que usaremos para completar los valores ausentes\n",
    "def llenado_cylinders(row):\n",
    "    cylinders = row['cylinders']\n",
    "    model = row['model']\n",
    "    if np.isnan(cylinders):\n",
    "        try:\n",
    "            mediana = cylinders_bymodel.xs(model)\n",
    "            return mediana\n",
    "        except:\n",
    "            return float(\"nan\")\n",
    "    else:\n",
    "        return cylinders"
   ]
  },
  {
   "cell_type": "code",
   "execution_count": 13,
   "metadata": {
    "ExecuteTime": {
     "end_time": "2023-07-18T04:20:12.660914300Z",
     "start_time": "2023-07-18T04:20:12.225912900Z"
    }
   },
   "outputs": [
    {
     "data": {
      "text/plain": "        model  cylinders\n0      bmw x5        NaN\n1  ford f-150        NaN\n2    ram 1500        6.0",
      "text/html": "<div>\n<style scoped>\n    .dataframe tbody tr th:only-of-type {\n        vertical-align: middle;\n    }\n\n    .dataframe tbody tr th {\n        vertical-align: top;\n    }\n\n    .dataframe thead th {\n        text-align: right;\n    }\n</style>\n<table border=\"1\" class=\"dataframe\">\n  <thead>\n    <tr style=\"text-align: right;\">\n      <th></th>\n      <th>model</th>\n      <th>cylinders</th>\n    </tr>\n  </thead>\n  <tbody>\n    <tr>\n      <th>0</th>\n      <td>bmw x5</td>\n      <td>NaN</td>\n    </tr>\n    <tr>\n      <th>1</th>\n      <td>ford f-150</td>\n      <td>NaN</td>\n    </tr>\n    <tr>\n      <th>2</th>\n      <td>ram 1500</td>\n      <td>6.0</td>\n    </tr>\n  </tbody>\n</table>\n</div>"
     },
     "execution_count": 13,
     "metadata": {},
     "output_type": "execute_result"
    }
   ],
   "source": [
    "# Comprobamos si funciona\n",
    "## Creamos una dataset de pruebas\n",
    "data_prueba = {'model':[\"bmw x5\", 'ford f-150', 'ram 1500'],  \n",
    "               'cylinders':[float(\"nan\"), float(\"nan\"), 6]}\n",
    "df_prueba = pd.DataFrame(data_prueba)\n",
    "df_prueba"
   ]
  },
  {
   "cell_type": "code",
   "execution_count": 14,
   "metadata": {
    "ExecuteTime": {
     "end_time": "2023-07-18T04:20:12.662914600Z",
     "start_time": "2023-07-18T04:20:12.255911700Z"
    }
   },
   "outputs": [
    {
     "data": {
      "text/plain": "        model  cylinders\n0      bmw x5        6.0\n1  ford f-150        8.0\n2    ram 1500        6.0",
      "text/html": "<div>\n<style scoped>\n    .dataframe tbody tr th:only-of-type {\n        vertical-align: middle;\n    }\n\n    .dataframe tbody tr th {\n        vertical-align: top;\n    }\n\n    .dataframe thead th {\n        text-align: right;\n    }\n</style>\n<table border=\"1\" class=\"dataframe\">\n  <thead>\n    <tr style=\"text-align: right;\">\n      <th></th>\n      <th>model</th>\n      <th>cylinders</th>\n    </tr>\n  </thead>\n  <tbody>\n    <tr>\n      <th>0</th>\n      <td>bmw x5</td>\n      <td>6.0</td>\n    </tr>\n    <tr>\n      <th>1</th>\n      <td>ford f-150</td>\n      <td>8.0</td>\n    </tr>\n    <tr>\n      <th>2</th>\n      <td>ram 1500</td>\n      <td>6.0</td>\n    </tr>\n  </tbody>\n</table>\n</div>"
     },
     "execution_count": 14,
     "metadata": {},
     "output_type": "execute_result"
    }
   ],
   "source": [
    "## Aplicamos la función al dataset de prueba y verificamos\n",
    "df_prueba['cylinders'] = df_prueba.apply(llenado_cylinders, axis=1)\n",
    "df_prueba"
   ]
  },
  {
   "cell_type": "code",
   "execution_count": 15,
   "metadata": {
    "ExecuteTime": {
     "end_time": "2023-07-18T04:20:13.595915200Z",
     "start_time": "2023-07-18T04:20:12.286913600Z"
    }
   },
   "outputs": [
    {
     "data": {
      "text/plain": "price              0\nmodel_year         0\nmodel              0\ncondition          0\ncylinders          0\nfuel               0\nodometer        7343\ntransmission       0\ntype               0\npaint_color     8615\nis_4wd             0\ndate_posted        0\ndays_listed        0\ndtype: int64"
     },
     "execution_count": 15,
     "metadata": {},
     "output_type": "execute_result"
    }
   ],
   "source": [
    "# Aplícalo a cada fila\n",
    "data['cylinders'] = data.apply(llenado_cylinders, axis=1)\n",
    "\n",
    "# Comprueba si tenemos algún error\n",
    "data.isna().sum()"
   ]
  },
  {
   "cell_type": "markdown",
   "metadata": {},
   "source": [
    "Como podemos observar, hemos podido rellenar cada uno de nuestros datos en la columna `cylinders`."
   ]
  },
  {
   "cell_type": "code",
   "execution_count": 16,
   "metadata": {
    "ExecuteTime": {
     "end_time": "2023-07-18T04:20:13.694926200Z",
     "start_time": "2023-07-18T04:20:13.598913600Z"
    }
   },
   "outputs": [
    {
     "name": "stdout",
     "output_type": "stream",
     "text": [
      "NaN         7343\n",
      "0.0          172\n",
      "140000.0     169\n",
      "130000.0     162\n",
      "120000.0     160\n",
      "            ... \n",
      "49478.0        1\n",
      "168235.0       1\n",
      "62727.0        1\n",
      "91490.0        1\n",
      "139573.0       1\n",
      "Name: odometer, Length: 16901, dtype: int64\n",
      "\n",
      "% de ausentes en odometer: 15.327933870496388\n"
     ]
    }
   ],
   "source": [
    "## Columna odometer\n",
    "\n",
    "# Checamos los datos presentes en la columna\n",
    "print(data.odometer.value_counts(dropna=False))\n",
    "print()\n",
    "# Checamos el porcentaje de ausentes que representan para esta columna\n",
    "print('% de ausentes en odometer:', data.odometer.isna().sum() / data.shape[0] * 100)"
   ]
  },
  {
   "cell_type": "markdown",
   "metadata": {},
   "source": [
    "Aqui nos enfrentamos con una columna numerica con muchos datos diferentes, sin embargo podemos notar que 7,343 son ausentes y representan el 15% de la información.\n",
    "\n",
    "Al igual que en la columna anterior podemos inferir el numero promedio de millaje del vehiculo basandonos en el año de este."
   ]
  },
  {
   "cell_type": "code",
   "execution_count": 17,
   "metadata": {
    "ExecuteTime": {
     "end_time": "2023-07-18T04:20:16.581610800Z",
     "start_time": "2023-07-18T04:20:13.629915400Z"
    }
   },
   "outputs": [
    {
     "data": {
      "text/plain": "<AxesSubplot:title={'center':'odometer'}, xlabel='model_year'>"
     },
     "execution_count": 17,
     "metadata": {},
     "output_type": "execute_result"
    },
    {
     "data": {
      "text/plain": "<Figure size 1440x720 with 1 Axes>",
      "image/png": "[encoded data removed]"
     },
     "metadata": {},
     "output_type": "display_data"
    }
   ],
   "source": [
    "# Creamos un grafico de boxplot para ver la distribución de la columna\n",
    "data.boxplot(column='odometer', by='model_year', figsize=(20,10))"
   ]
  },
  {
   "cell_type": "markdown",
   "metadata": {},
   "source": [
    "A pesar de que el grafico es pequeño, podemos ver claramente que hay muchisimos datos atipicos en la columna, debido a esto usaremos la mediana para rellenar la columna"
   ]
  },
  {
   "cell_type": "code",
   "execution_count": 18,
   "metadata": {
    "ExecuteTime": {
     "end_time": "2023-07-18T04:20:16.863609500Z",
     "start_time": "2023-07-18T04:20:16.587615800Z"
    }
   },
   "outputs": [
    {
     "data": {
      "text/plain": "model_year\n1908.0    169328.0\n1936.0     30000.0\n1948.0      4000.0\n1949.0      1800.0\n1954.0      3565.0\n            ...   \n2015.0     78514.0\n2016.0     54000.0\n2017.0     41000.0\n2018.0     20627.0\n2019.0     14151.5\nName: odometer, Length: 67, dtype: float64"
     },
     "execution_count": 18,
     "metadata": {},
     "output_type": "execute_result"
    }
   ],
   "source": [
    "# Creamos una tabla agrupada por los años de los vehiculos con mediana\n",
    "odometer_byyear = data[data.odometer.notnull()].groupby(['model_year']).odometer.median()\n",
    "odometer_byyear"
   ]
  },
  {
   "cell_type": "code",
   "execution_count": 19,
   "metadata": {
    "ExecuteTime": {
     "end_time": "2023-07-18T04:20:16.864611100Z",
     "start_time": "2023-07-18T04:20:16.635610Z"
    }
   },
   "outputs": [
    {
     "data": {
      "text/plain": "   model_year  odometer\n0        2017       NaN\n1        1997       NaN\n2        2000   10000.0\n3        1998       NaN",
      "text/html": "<div>\n<style scoped>\n    .dataframe tbody tr th:only-of-type {\n        vertical-align: middle;\n    }\n\n    .dataframe tbody tr th {\n        vertical-align: top;\n    }\n\n    .dataframe thead th {\n        text-align: right;\n    }\n</style>\n<table border=\"1\" class=\"dataframe\">\n  <thead>\n    <tr style=\"text-align: right;\">\n      <th></th>\n      <th>model_year</th>\n      <th>odometer</th>\n    </tr>\n  </thead>\n  <tbody>\n    <tr>\n      <th>0</th>\n      <td>2017</td>\n      <td>NaN</td>\n    </tr>\n    <tr>\n      <th>1</th>\n      <td>1997</td>\n      <td>NaN</td>\n    </tr>\n    <tr>\n      <th>2</th>\n      <td>2000</td>\n      <td>10000.0</td>\n    </tr>\n    <tr>\n      <th>3</th>\n      <td>1998</td>\n      <td>NaN</td>\n    </tr>\n  </tbody>\n</table>\n</div>"
     },
     "execution_count": 19,
     "metadata": {},
     "output_type": "execute_result"
    }
   ],
   "source": [
    "#  Función que usaremos para completar los valores ausentes\n",
    "def llenado_odometer(row):\n",
    "    odometer = row['odometer']\n",
    "    year = row['model_year']\n",
    "    if np.isnan(odometer):\n",
    "        try:\n",
    "            mediana = odometer_byyear.xs(year)\n",
    "            return mediana\n",
    "        except:\n",
    "            return float(\"nan\")\n",
    "    else:\n",
    "        return odometer\n",
    "    \n",
    "# Comprobamos si funciona\n",
    "## Creamos una dataset de pruebas\n",
    "data_prueba = {'model_year':[2017, 1997, 2000, 1998],  \n",
    "               'odometer':[float(\"nan\"), float(\"nan\"), 10000, float(\"nan\")]}\n",
    "df_prueba = pd.DataFrame(data_prueba)\n",
    "df_prueba"
   ]
  },
  {
   "cell_type": "code",
   "execution_count": 20,
   "metadata": {
    "ExecuteTime": {
     "end_time": "2023-07-18T04:20:16.864611100Z",
     "start_time": "2023-07-18T04:20:16.662610300Z"
    }
   },
   "outputs": [
    {
     "data": {
      "text/plain": "   model_year  odometer\n0        2017   41000.0\n1        1997  183533.0\n2        2000   10000.0\n3        1998  170592.0",
      "text/html": "<div>\n<style scoped>\n    .dataframe tbody tr th:only-of-type {\n        vertical-align: middle;\n    }\n\n    .dataframe tbody tr th {\n        vertical-align: top;\n    }\n\n    .dataframe thead th {\n        text-align: right;\n    }\n</style>\n<table border=\"1\" class=\"dataframe\">\n  <thead>\n    <tr style=\"text-align: right;\">\n      <th></th>\n      <th>model_year</th>\n      <th>odometer</th>\n    </tr>\n  </thead>\n  <tbody>\n    <tr>\n      <th>0</th>\n      <td>2017</td>\n      <td>41000.0</td>\n    </tr>\n    <tr>\n      <th>1</th>\n      <td>1997</td>\n      <td>183533.0</td>\n    </tr>\n    <tr>\n      <th>2</th>\n      <td>2000</td>\n      <td>10000.0</td>\n    </tr>\n    <tr>\n      <th>3</th>\n      <td>1998</td>\n      <td>170592.0</td>\n    </tr>\n  </tbody>\n</table>\n</div>"
     },
     "execution_count": 20,
     "metadata": {},
     "output_type": "execute_result"
    }
   ],
   "source": [
    "## Aplicamos la función al dataset de prueba y verificamos\n",
    "df_prueba['odometer'] = df_prueba.apply(llenado_odometer, axis=1)\n",
    "df_prueba"
   ]
  },
  {
   "cell_type": "code",
   "execution_count": 21,
   "metadata": {
    "ExecuteTime": {
     "end_time": "2023-07-18T04:20:18.049613800Z",
     "start_time": "2023-07-18T04:20:16.696609400Z"
    }
   },
   "outputs": [
    {
     "data": {
      "text/plain": "price              0\nmodel_year         0\nmodel              0\ncondition          0\ncylinders          0\nfuel               0\nodometer           1\ntransmission       0\ntype               0\npaint_color     8615\nis_4wd             0\ndate_posted        0\ndays_listed        0\ndtype: int64"
     },
     "execution_count": 21,
     "metadata": {},
     "output_type": "execute_result"
    }
   ],
   "source": [
    "# Aplícalo a cada fila\n",
    "data['odometer'] = data.apply(llenado_odometer, axis=1)\n",
    "\n",
    "# Comprueba si tenemos algún error\n",
    "data.isna().sum()"
   ]
  },
  {
   "cell_type": "markdown",
   "metadata": {},
   "source": [
    "Como podemos observar, pudimos rellenar todos los datos a excepción de uno, veamos porque y en caso de que no podamos rellenarlo se eliminara"
   ]
  },
  {
   "cell_type": "code",
   "execution_count": 22,
   "metadata": {
    "ExecuteTime": {
     "end_time": "2023-07-18T04:20:18.169618500Z",
     "start_time": "2023-07-18T04:20:18.054614900Z"
    }
   },
   "outputs": [
    {
     "data": {
      "text/plain": "       price  model_year       model condition  cylinders fuel  odometer  \\\n45694  18000      1929.0  ford f-150      good        8.0  gas       NaN   \n\n      transmission   type paint_color  is_4wd date_posted  days_listed  \n45694       manual  other      silver     0.0  2018-11-18           59  ",
      "text/html": "<div>\n<style scoped>\n    .dataframe tbody tr th:only-of-type {\n        vertical-align: middle;\n    }\n\n    .dataframe tbody tr th {\n        vertical-align: top;\n    }\n\n    .dataframe thead th {\n        text-align: right;\n    }\n</style>\n<table border=\"1\" class=\"dataframe\">\n  <thead>\n    <tr style=\"text-align: right;\">\n      <th></th>\n      <th>price</th>\n      <th>model_year</th>\n      <th>model</th>\n      <th>condition</th>\n      <th>cylinders</th>\n      <th>fuel</th>\n      <th>odometer</th>\n      <th>transmission</th>\n      <th>type</th>\n      <th>paint_color</th>\n      <th>is_4wd</th>\n      <th>date_posted</th>\n      <th>days_listed</th>\n    </tr>\n  </thead>\n  <tbody>\n    <tr>\n      <th>45694</th>\n      <td>18000</td>\n      <td>1929.0</td>\n      <td>ford f-150</td>\n      <td>good</td>\n      <td>8.0</td>\n      <td>gas</td>\n      <td>NaN</td>\n      <td>manual</td>\n      <td>other</td>\n      <td>silver</td>\n      <td>0.0</td>\n      <td>2018-11-18</td>\n      <td>59</td>\n    </tr>\n  </tbody>\n</table>\n</div>"
     },
     "execution_count": 22,
     "metadata": {},
     "output_type": "execute_result"
    }
   ],
   "source": [
    "# Vemos la fila que no se relleno\n",
    "data[data.odometer.isnull()]"
   ]
  },
  {
   "cell_type": "code",
   "execution_count": 23,
   "metadata": {
    "ExecuteTime": {
     "end_time": "2023-07-18T04:20:18.171611800Z",
     "start_time": "2023-07-18T04:20:18.081610200Z"
    }
   },
   "outputs": [
    {
     "name": "stdout",
     "output_type": "stream",
     "text": [
      "Dato no encontrado\n"
     ]
    }
   ],
   "source": [
    "# Verificamos si el año viene en nuestra tabla\n",
    "try:\n",
    "    odometer_byyear.xs(1929)\n",
    "except:\n",
    "    print('Dato no encontrado')"
   ]
  },
  {
   "cell_type": "markdown",
   "metadata": {},
   "source": [
    "El año 1929 no viene en nuestra tabla de llenado, por lo que no pudo rellenarlo con su dato correspondiente. Para rellenar este dato, podemos generar la mediana de los autos que esten en la decado de los 20s o 30s"
   ]
  },
  {
   "cell_type": "code",
   "execution_count": 24,
   "metadata": {
    "ExecuteTime": {
     "end_time": "2023-07-18T04:20:18.301611200Z",
     "start_time": "2023-07-18T04:20:18.099614900Z"
    }
   },
   "outputs": [
    {
     "data": {
      "text/plain": "price              0\nmodel_year         0\nmodel              0\ncondition          0\ncylinders          0\nfuel               0\nodometer           0\ntransmission       0\ntype               0\npaint_color     8615\nis_4wd             0\ndate_posted        0\ndays_listed        0\ndtype: int64"
     },
     "execution_count": 24,
     "metadata": {},
     "output_type": "execute_result"
    }
   ],
   "source": [
    "# Rellenamos el dato con la mediana de esa epoca\n",
    "data.odometer = data.odometer.fillna(data[data.odometer.notnull()].query('model_year < 1940 and model_year > 1920').odometer.median())\n",
    "\n",
    "# Comprueba si tenemos algún error\n",
    "data.isna().sum()"
   ]
  },
  {
   "cell_type": "markdown",
   "metadata": {},
   "source": [
    "La columna `odometer` esta libre de datos ausentes. Ahora pasaremos a nuestra ultima columna."
   ]
  },
  {
   "cell_type": "code",
   "execution_count": 25,
   "metadata": {
    "ExecuteTime": {
     "end_time": "2023-07-18T04:20:18.516610Z",
     "start_time": "2023-07-18T04:20:18.197610200Z"
    }
   },
   "outputs": [
    {
     "name": "stdout",
     "output_type": "stream",
     "text": [
      "white     9324\n",
      "NaN       8615\n",
      "black     7176\n",
      "silver    5811\n",
      "grey      4686\n",
      "blue      4143\n",
      "red       4138\n",
      "green     1278\n",
      "brown     1120\n",
      "custom    1074\n",
      "yellow     239\n",
      "orange     207\n",
      "purple      95\n",
      "Name: paint_color, dtype: int64\n",
      "\n",
      "% de ausentes en paint_color: 17.983133636705215\n"
     ]
    }
   ],
   "source": [
    "## Columna paint_color\n",
    "\n",
    "# Checamos los datos presentes en la columna\n",
    "print(data.paint_color.value_counts(dropna=False))\n",
    "print()\n",
    "# Checamos el porcentaje de ausentes que representan para esta columna\n",
    "print('% de ausentes en paint_color:', data.paint_color.isna().sum() / data.shape[0] * 100)"
   ]
  },
  {
   "cell_type": "markdown",
   "metadata": {},
   "source": [
    "Nuestra ultima columna por revisar es categorica, con 8615 valores ausentes que representan el 17.9% de nuestros datos. Ya que no podemos saber el color del carro por alguna de nuestras columnas podriamos eliminar estos datos, sin embargo al ser el 18% de los datos perderiamos mucha información.\n",
    "\n",
    "Ya que es categorica, nuestra opción con este panorama es crear una nueva categoria para estos carros \"not specified\". Con esto podemos conservar nuestros datos y le agregamos una etiqueta que podria ser de importancia para nuestro análisis."
   ]
  },
  {
   "cell_type": "code",
   "execution_count": 26,
   "metadata": {
    "ExecuteTime": {
     "end_time": "2023-07-18T04:20:18.520609200Z",
     "start_time": "2023-07-18T04:20:18.227611200Z"
    }
   },
   "outputs": [
    {
     "name": "stdout",
     "output_type": "stream",
     "text": [
      "price           0\n",
      "model_year      0\n",
      "model           0\n",
      "condition       0\n",
      "cylinders       0\n",
      "fuel            0\n",
      "odometer        0\n",
      "transmission    0\n",
      "type            0\n",
      "paint_color     0\n",
      "is_4wd          0\n",
      "date_posted     0\n",
      "days_listed     0\n",
      "dtype: int64\n",
      "\n",
      "white            9324\n",
      "not_specified    8615\n",
      "black            7176\n",
      "silver           5811\n",
      "grey             4686\n",
      "blue             4143\n",
      "red              4138\n",
      "green            1278\n",
      "brown            1120\n",
      "custom           1074\n",
      "yellow            239\n",
      "orange            207\n",
      "purple             95\n",
      "Name: paint_color, dtype: int64\n"
     ]
    }
   ],
   "source": [
    "# Remplazamos los datos vacios con nuestra nueva categoria\n",
    "data.paint_color = data.paint_color.fillna('not_specified')\n",
    "\n",
    "# Comprueba si tenemos algún error\n",
    "print(data.isna().sum())\n",
    "print()\n",
    "\n",
    "print(data.paint_color.value_counts(dropna=False))"
   ]
  },
  {
   "cell_type": "markdown",
   "metadata": {},
   "source": [
    "Con este ajuste, hemos logrado limpiar nuestro dataset de datos ausentes. Podemos continuar con nuestro analisis"
   ]
  },
  {
   "cell_type": "markdown",
   "metadata": {},
   "source": [
    "## Corregir los tipos de datos"
   ]
  },
  {
   "cell_type": "markdown",
   "metadata": {},
   "source": [
    "A continuación, procederemos a cambiar el tipo de dato de las siguientes columnas:\n",
    "\n",
    "1. `date_posted` a datetime\n",
    "2. `is_4wd` a boolean\n",
    "3. `model_year` a int\n",
    "4. `cylinders` a int \n",
    "5. `odometer` a int"
   ]
  },
  {
   "cell_type": "code",
   "execution_count": 27,
   "metadata": {
    "ExecuteTime": {
     "end_time": "2023-07-18T04:20:18.564607Z",
     "start_time": "2023-07-18T04:20:18.322611200Z"
    }
   },
   "outputs": [
    {
     "name": "stdout",
     "output_type": "stream",
     "text": [
      "0   2018-06-23\n",
      "2   2019-02-07\n",
      "3   2019-03-22\n",
      "4   2019-04-02\n",
      "5   2018-06-20\n",
      "Name: date_posted, dtype: datetime64[ns]\n",
      "\n",
      "<class 'pandas.core.frame.DataFrame'>\n",
      "Int64Index: 47906 entries, 0 to 51524\n",
      "Data columns (total 13 columns):\n",
      " #   Column        Non-Null Count  Dtype         \n",
      "---  ------        --------------  -----         \n",
      " 0   price         47906 non-null  int64         \n",
      " 1   model_year    47906 non-null  float64       \n",
      " 2   model         47906 non-null  object        \n",
      " 3   condition     47906 non-null  object        \n",
      " 4   cylinders     47906 non-null  float64       \n",
      " 5   fuel          47906 non-null  object        \n",
      " 6   odometer      47906 non-null  float64       \n",
      " 7   transmission  47906 non-null  object        \n",
      " 8   type          47906 non-null  object        \n",
      " 9   paint_color   47906 non-null  object        \n",
      " 10  is_4wd        47906 non-null  float64       \n",
      " 11  date_posted   47906 non-null  datetime64[ns]\n",
      " 12  days_listed   47906 non-null  int64         \n",
      "dtypes: datetime64[ns](1), float64(4), int64(2), object(6)\n",
      "memory usage: 5.1+ MB\n",
      "None\n"
     ]
    }
   ],
   "source": [
    "## Columna date_posted\n",
    "\n",
    "# Cambiamos el tipo a fecha\n",
    "data['date_posted'] = pd.to_datetime(data['date_posted'], format='%Y-%m-%d')\n",
    "\n",
    "# Verificamos que el cambio este hecho\n",
    "print(data.date_posted.head())\n",
    "print()\n",
    "print(data.info())"
   ]
  },
  {
   "cell_type": "code",
   "execution_count": 28,
   "metadata": {
    "ExecuteTime": {
     "end_time": "2023-07-18T04:20:18.758612800Z",
     "start_time": "2023-07-18T04:20:18.426609300Z"
    }
   },
   "outputs": [
    {
     "name": "stdout",
     "output_type": "stream",
     "text": [
      "0    1.0\n",
      "2    0.0\n",
      "3    0.0\n",
      "4    0.0\n",
      "5    1.0\n",
      "Name: is_4wd, dtype: float64\n",
      "\n",
      "<class 'pandas.core.frame.DataFrame'>\n",
      "Int64Index: 47906 entries, 0 to 51524\n",
      "Data columns (total 13 columns):\n",
      " #   Column        Non-Null Count  Dtype         \n",
      "---  ------        --------------  -----         \n",
      " 0   price         47906 non-null  int64         \n",
      " 1   model_year    47906 non-null  float64       \n",
      " 2   model         47906 non-null  object        \n",
      " 3   condition     47906 non-null  object        \n",
      " 4   cylinders     47906 non-null  float64       \n",
      " 5   fuel          47906 non-null  object        \n",
      " 6   odometer      47906 non-null  float64       \n",
      " 7   transmission  47906 non-null  object        \n",
      " 8   type          47906 non-null  object        \n",
      " 9   paint_color   47906 non-null  object        \n",
      " 10  is_4wd        47906 non-null  float64       \n",
      " 11  date_posted   47906 non-null  datetime64[ns]\n",
      " 12  days_listed   47906 non-null  int64         \n",
      "dtypes: datetime64[ns](1), float64(4), int64(2), object(6)\n",
      "memory usage: 5.1+ MB\n",
      "None\n",
      "0     True\n",
      "2    False\n",
      "3    False\n",
      "4    False\n",
      "5     True\n",
      "Name: is_4wd, dtype: boolean\n",
      "\n",
      "<class 'pandas.core.frame.DataFrame'>\n",
      "Int64Index: 47906 entries, 0 to 51524\n",
      "Data columns (total 13 columns):\n",
      " #   Column        Non-Null Count  Dtype         \n",
      "---  ------        --------------  -----         \n",
      " 0   price         47906 non-null  int64         \n",
      " 1   model_year    47906 non-null  float64       \n",
      " 2   model         47906 non-null  object        \n",
      " 3   condition     47906 non-null  object        \n",
      " 4   cylinders     47906 non-null  float64       \n",
      " 5   fuel          47906 non-null  object        \n",
      " 6   odometer      47906 non-null  float64       \n",
      " 7   transmission  47906 non-null  object        \n",
      " 8   type          47906 non-null  object        \n",
      " 9   paint_color   47906 non-null  object        \n",
      " 10  is_4wd        47906 non-null  boolean       \n",
      " 11  date_posted   47906 non-null  datetime64[ns]\n",
      " 12  days_listed   47906 non-null  int64         \n",
      "dtypes: boolean(1), datetime64[ns](1), float64(3), int64(2), object(6)\n",
      "memory usage: 4.8+ MB\n",
      "None\n"
     ]
    }
   ],
   "source": [
    "## Columna is_4wd\n",
    "\n",
    "# Checamos como esta el dato original\n",
    "print(data.is_4wd.head())\n",
    "print()\n",
    "print(data.info())\n",
    "\n",
    "# Cambiamos el tipo a boolean\n",
    "data['is_4wd'] = data['is_4wd'].astype('boolean')\n",
    "\n",
    "# Verificamos que el cambio este hecho\n",
    "print(data.is_4wd.head())\n",
    "print()\n",
    "print(data.info())"
   ]
  },
  {
   "cell_type": "code",
   "execution_count": 29,
   "metadata": {
    "ExecuteTime": {
     "end_time": "2023-07-18T04:20:18.828605700Z",
     "start_time": "2023-07-18T04:20:18.583612700Z"
    }
   },
   "outputs": [
    {
     "name": "stdout",
     "output_type": "stream",
     "text": [
      "0    2011\n",
      "2    2013\n",
      "3    2003\n",
      "4    2017\n",
      "5    2014\n",
      "Name: model_year, dtype: int32\n",
      "\n",
      "<class 'pandas.core.frame.DataFrame'>\n",
      "Int64Index: 47906 entries, 0 to 51524\n",
      "Data columns (total 13 columns):\n",
      " #   Column        Non-Null Count  Dtype         \n",
      "---  ------        --------------  -----         \n",
      " 0   price         47906 non-null  int64         \n",
      " 1   model_year    47906 non-null  int32         \n",
      " 2   model         47906 non-null  object        \n",
      " 3   condition     47906 non-null  object        \n",
      " 4   cylinders     47906 non-null  float64       \n",
      " 5   fuel          47906 non-null  object        \n",
      " 6   odometer      47906 non-null  float64       \n",
      " 7   transmission  47906 non-null  object        \n",
      " 8   type          47906 non-null  object        \n",
      " 9   paint_color   47906 non-null  object        \n",
      " 10  is_4wd        47906 non-null  boolean       \n",
      " 11  date_posted   47906 non-null  datetime64[ns]\n",
      " 12  days_listed   47906 non-null  int64         \n",
      "dtypes: boolean(1), datetime64[ns](1), float64(2), int32(1), int64(2), object(6)\n",
      "memory usage: 4.7+ MB\n",
      "None\n"
     ]
    }
   ],
   "source": [
    "## Columna model_year\n",
    "\n",
    "# Cambiamos el tipo a int\n",
    "data['model_year'] = data['model_year'].astype('int')\n",
    "\n",
    "# Verificamos que el cambio este hecho\n",
    "print(data.model_year.head())\n",
    "print()\n",
    "print(data.info())"
   ]
  },
  {
   "cell_type": "code",
   "execution_count": 30,
   "metadata": {
    "ExecuteTime": {
     "end_time": "2023-07-18T04:20:18.856609300Z",
     "start_time": "2023-07-18T04:20:18.662610500Z"
    }
   },
   "outputs": [
    {
     "name": "stdout",
     "output_type": "stream",
     "text": [
      "0    6\n",
      "2    4\n",
      "3    8\n",
      "4    4\n",
      "5    6\n",
      "Name: cylinders, dtype: int32\n",
      "\n",
      "<class 'pandas.core.frame.DataFrame'>\n",
      "Int64Index: 47906 entries, 0 to 51524\n",
      "Data columns (total 13 columns):\n",
      " #   Column        Non-Null Count  Dtype         \n",
      "---  ------        --------------  -----         \n",
      " 0   price         47906 non-null  int64         \n",
      " 1   model_year    47906 non-null  int32         \n",
      " 2   model         47906 non-null  object        \n",
      " 3   condition     47906 non-null  object        \n",
      " 4   cylinders     47906 non-null  int32         \n",
      " 5   fuel          47906 non-null  object        \n",
      " 6   odometer      47906 non-null  float64       \n",
      " 7   transmission  47906 non-null  object        \n",
      " 8   type          47906 non-null  object        \n",
      " 9   paint_color   47906 non-null  object        \n",
      " 10  is_4wd        47906 non-null  boolean       \n",
      " 11  date_posted   47906 non-null  datetime64[ns]\n",
      " 12  days_listed   47906 non-null  int64         \n",
      "dtypes: boolean(1), datetime64[ns](1), float64(1), int32(2), int64(2), object(6)\n",
      "memory usage: 4.5+ MB\n",
      "None\n"
     ]
    }
   ],
   "source": [
    "## Columna cylinders\n",
    "\n",
    "# Cambiamos el tipo a int\n",
    "data['cylinders'] = data['cylinders'].astype('int')\n",
    "\n",
    "# Verificamos que el cambio este hecho\n",
    "print(data.cylinders.head())\n",
    "print()\n",
    "print(data.info())"
   ]
  },
  {
   "cell_type": "code",
   "execution_count": 31,
   "metadata": {
    "ExecuteTime": {
     "end_time": "2023-07-18T04:20:18.981609700Z",
     "start_time": "2023-07-18T04:20:18.740613800Z"
    }
   },
   "outputs": [
    {
     "name": "stdout",
     "output_type": "stream",
     "text": [
      "0    145000\n",
      "2    110000\n",
      "3    161397\n",
      "4     80903\n",
      "5     57954\n",
      "Name: odometer, dtype: int32\n",
      "\n",
      "<class 'pandas.core.frame.DataFrame'>\n",
      "Int64Index: 47906 entries, 0 to 51524\n",
      "Data columns (total 13 columns):\n",
      " #   Column        Non-Null Count  Dtype         \n",
      "---  ------        --------------  -----         \n",
      " 0   price         47906 non-null  int64         \n",
      " 1   model_year    47906 non-null  int32         \n",
      " 2   model         47906 non-null  object        \n",
      " 3   condition     47906 non-null  object        \n",
      " 4   cylinders     47906 non-null  int32         \n",
      " 5   fuel          47906 non-null  object        \n",
      " 6   odometer      47906 non-null  int32         \n",
      " 7   transmission  47906 non-null  object        \n",
      " 8   type          47906 non-null  object        \n",
      " 9   paint_color   47906 non-null  object        \n",
      " 10  is_4wd        47906 non-null  boolean       \n",
      " 11  date_posted   47906 non-null  datetime64[ns]\n",
      " 12  days_listed   47906 non-null  int64         \n",
      "dtypes: boolean(1), datetime64[ns](1), int32(3), int64(2), object(6)\n",
      "memory usage: 4.3+ MB\n",
      "None\n"
     ]
    }
   ],
   "source": [
    "## Columna odometer\n",
    "\n",
    "# Cambiamos el tipo a int\n",
    "data['odometer'] = data['odometer'].astype('int')\n",
    "\n",
    "# Verificamos que el cambio este hecho\n",
    "print(data.odometer.head())\n",
    "print()\n",
    "print(data.info())"
   ]
  },
  {
   "cell_type": "markdown",
   "metadata": {},
   "source": [
    "Con este ultimo ajuste, hemos cambiado todas las columnas que identificamos a sus tipos correspondientes. Podemos continuar."
   ]
  },
  {
   "cell_type": "markdown",
   "metadata": {},
   "source": [
    "## Enriquecer datos"
   ]
  },
  {
   "cell_type": "markdown",
   "metadata": {},
   "source": [
    "Para enriquecer y faciliar nuestro análisis, se agregaran los siguientes datos:\n",
    "\n",
    "1. Día de la semana, mes y año en el que el anuncio se colocó\n",
    "2. Años del vehículo cuando el anuncio se colocó\n",
    "3. Millaje promedio del vehículo por año\n",
    "4. Se remplazara los datos en la columna `condition` por números para identificar la condición del vehiculo"
   ]
  },
  {
   "cell_type": "code",
   "execution_count": 32,
   "metadata": {
    "ExecuteTime": {
     "end_time": "2023-07-18T04:20:18.983611700Z",
     "start_time": "2023-07-18T04:20:18.817609900Z"
    }
   },
   "outputs": [],
   "source": [
    "# Día de la semana, mes y año en el que el anuncio se colocó\n",
    "\n",
    "# Dia de la semana\n",
    "data['day_posted'] = pd.DatetimeIndex(data['date_posted']).weekday\n",
    "\n",
    "# Mes\n",
    "data['month_posted'] = pd.DatetimeIndex(data['date_posted']).month\n",
    "\n",
    "# Año\n",
    "data['year_posted'] = pd.DatetimeIndex(data['date_posted']).year"
   ]
  },
  {
   "cell_type": "code",
   "execution_count": 33,
   "metadata": {
    "ExecuteTime": {
     "end_time": "2023-07-18T04:20:18.984613400Z",
     "start_time": "2023-07-18T04:20:18.857610Z"
    }
   },
   "outputs": [],
   "source": [
    "# Agrega los años del vehículo cuando el anuncio se colocó\n",
    "data['years_car'] = data['year_posted'] - data['model_year']"
   ]
  },
  {
   "cell_type": "code",
   "execution_count": 34,
   "metadata": {
    "ExecuteTime": {
     "end_time": "2023-07-18T04:20:18.984613400Z",
     "start_time": "2023-07-18T04:20:18.862611500Z"
    }
   },
   "outputs": [],
   "source": [
    "# Agrega el millaje promedio del vehículo por año\n",
    "data['miles_year'] = data['odometer'] / data['years_car']"
   ]
  },
  {
   "cell_type": "markdown",
   "metadata": {},
   "source": [
    "Diccionario para la columna condition\n",
    "\n",
    "- nuevo = 5\n",
    "- como nuevo = 4\n",
    "- excelente = 3\n",
    "- bien = 2\n",
    "- bastante = 1\n",
    "- para rescate = 0"
   ]
  },
  {
   "cell_type": "code",
   "execution_count": 35,
   "metadata": {
    "ExecuteTime": {
     "end_time": "2023-07-18T04:20:19.049611700Z",
     "start_time": "2023-07-18T04:20:18.885611200Z"
    }
   },
   "outputs": [
    {
     "name": "stdout",
     "output_type": "stream",
     "text": [
      "excellent    23074\n",
      "good         18695\n",
      "like new      4409\n",
      "fair          1492\n",
      "new            133\n",
      "salvage        103\n",
      "Name: condition, dtype: int64\n",
      "\n",
      "3    23074\n",
      "2    18695\n",
      "4     4409\n",
      "1     1492\n",
      "5      133\n",
      "0      103\n",
      "Name: condition, dtype: int64\n"
     ]
    }
   ],
   "source": [
    "# Podría ser útil reemplazar los valores de condición con algo que se pueda manipular más fácilmente\n",
    "\n",
    "# Data original\n",
    "print(data['condition'].value_counts())\n",
    "print()\n",
    "\n",
    "# Hacemos el cambio de valores\n",
    "data.loc[data[\"condition\"] == \"excellent\", \"condition\"] = 3\n",
    "data.loc[data[\"condition\"] == \"good\", \"condition\"] = 2\n",
    "data.loc[data[\"condition\"] == \"like new\", \"condition\"] = 4\n",
    "data.loc[data[\"condition\"] == \"new\", \"condition\"] = 5\n",
    "data.loc[data[\"condition\"] == \"fair\", \"condition\"] = 1\n",
    "data.loc[data[\"condition\"] == \"salvage\", \"condition\"] = 0\n",
    "\n",
    "# Checamos que el cambio haya sido correcto\n",
    "print(data['condition'].value_counts())\n",
    "\n",
    "# Cambiamos el tipo de condition a entero\n",
    "data['condition'] = data['condition'].astype('int')"
   ]
  },
  {
   "cell_type": "markdown",
   "metadata": {},
   "source": [
    "Al agregar estas columnas, podremos generar información de mucho valor. Con las columnas de dia, mes y año podriamos hacer un análisis de que dia o mes tiene mayor auge de anuncios.\n",
    "\n",
    "Con la columna de años del vehiculo podemos analizar como el precio se relaciona con los años de uso o cual es el promedio de años que los vehiculos tienen en la plataforma.\n",
    "\n",
    "Finalmente, el hacer el cambio de palabras a números en la columna condition nos puede ayudar a hacer analisis cuatitativos y generar matrices de correlación para variables como el precio y ver su relación."
   ]
  },
  {
   "cell_type": "markdown",
   "metadata": {},
   "source": [
    "## Comprobar datos limpios"
   ]
  },
  {
   "cell_type": "markdown",
   "metadata": {},
   "source": [
    "Hacemos una ultima comprobación de los datos y verificamos que todo esta en orden"
   ]
  },
  {
   "cell_type": "code",
   "execution_count": 36,
   "metadata": {
    "ExecuteTime": {
     "end_time": "2023-07-18T04:20:19.310608100Z",
     "start_time": "2023-07-18T04:20:18.941609600Z"
    }
   },
   "outputs": [
    {
     "name": "stdout",
     "output_type": "stream",
     "text": [
      "<class 'pandas.core.frame.DataFrame'>\n",
      "Int64Index: 47906 entries, 0 to 51524\n",
      "Data columns (total 18 columns):\n",
      " #   Column        Non-Null Count  Dtype         \n",
      "---  ------        --------------  -----         \n",
      " 0   price         47906 non-null  int64         \n",
      " 1   model_year    47906 non-null  int32         \n",
      " 2   model         47906 non-null  object        \n",
      " 3   condition     47906 non-null  int32         \n",
      " 4   cylinders     47906 non-null  int32         \n",
      " 5   fuel          47906 non-null  object        \n",
      " 6   odometer      47906 non-null  int32         \n",
      " 7   transmission  47906 non-null  object        \n",
      " 8   type          47906 non-null  object        \n",
      " 9   paint_color   47906 non-null  object        \n",
      " 10  is_4wd        47906 non-null  boolean       \n",
      " 11  date_posted   47906 non-null  datetime64[ns]\n",
      " 12  days_listed   47906 non-null  int64         \n",
      " 13  day_posted    47906 non-null  int64         \n",
      " 14  month_posted  47906 non-null  int64         \n",
      " 15  year_posted   47906 non-null  int64         \n",
      " 16  years_car     47906 non-null  int64         \n",
      " 17  miles_year    47904 non-null  float64       \n",
      "dtypes: boolean(1), datetime64[ns](1), float64(1), int32(4), int64(6), object(5)\n",
      "memory usage: 5.9+ MB\n"
     ]
    }
   ],
   "source": [
    "# imprime la información general/resumida sobre el DataFrame\n",
    "data.info()"
   ]
  },
  {
   "cell_type": "code",
   "execution_count": 37,
   "metadata": {
    "ExecuteTime": {
     "end_time": "2023-07-18T04:20:19.312608400Z",
     "start_time": "2023-07-18T04:20:19.021610500Z"
    }
   },
   "outputs": [
    {
     "data": {
      "text/plain": "   price  model_year           model  condition  cylinders fuel  odometer  \\\n0   9400        2011          bmw x5          2          6  gas    145000   \n2   5500        2013  hyundai sonata          4          4  gas    110000   \n3   1500        2003      ford f-150          1          8  gas    161397   \n4  14900        2017    chrysler 200          3          4  gas     80903   \n5  14990        2014    chrysler 300          3          6  gas     57954   \n\n  transmission    type    paint_color  is_4wd date_posted  days_listed  \\\n0    automatic     SUV  not_specified    True  2018-06-23           19   \n2    automatic   sedan            red   False  2019-02-07           79   \n3    automatic  pickup  not_specified   False  2019-03-22            9   \n4    automatic   sedan          black   False  2019-04-02           28   \n5    automatic   sedan          black    True  2018-06-20           15   \n\n   day_posted  month_posted  year_posted  years_car    miles_year  \n0           5             6         2018          7  20714.285714  \n2           3             2         2019          6  18333.333333  \n3           4             3         2019         16  10087.312500  \n4           1             4         2019          2  40451.500000  \n5           2             6         2018          4  14488.500000  ",
      "text/html": "<div>\n<style scoped>\n    .dataframe tbody tr th:only-of-type {\n        vertical-align: middle;\n    }\n\n    .dataframe tbody tr th {\n        vertical-align: top;\n    }\n\n    .dataframe thead th {\n        text-align: right;\n    }\n</style>\n<table border=\"1\" class=\"dataframe\">\n  <thead>\n    <tr style=\"text-align: right;\">\n      <th></th>\n      <th>price</th>\n      <th>model_year</th>\n      <th>model</th>\n      <th>condition</th>\n      <th>cylinders</th>\n      <th>fuel</th>\n      <th>odometer</th>\n      <th>transmission</th>\n      <th>type</th>\n      <th>paint_color</th>\n      <th>is_4wd</th>\n      <th>date_posted</th>\n      <th>days_listed</th>\n      <th>day_posted</th>\n      <th>month_posted</th>\n      <th>year_posted</th>\n      <th>years_car</th>\n      <th>miles_year</th>\n    </tr>\n  </thead>\n  <tbody>\n    <tr>\n      <th>0</th>\n      <td>9400</td>\n      <td>2011</td>\n      <td>bmw x5</td>\n      <td>2</td>\n      <td>6</td>\n      <td>gas</td>\n      <td>145000</td>\n      <td>automatic</td>\n      <td>SUV</td>\n      <td>not_specified</td>\n      <td>True</td>\n      <td>2018-06-23</td>\n      <td>19</td>\n      <td>5</td>\n      <td>6</td>\n      <td>2018</td>\n      <td>7</td>\n      <td>20714.285714</td>\n    </tr>\n    <tr>\n      <th>2</th>\n      <td>5500</td>\n      <td>2013</td>\n      <td>hyundai sonata</td>\n      <td>4</td>\n      <td>4</td>\n      <td>gas</td>\n      <td>110000</td>\n      <td>automatic</td>\n      <td>sedan</td>\n      <td>red</td>\n      <td>False</td>\n      <td>2019-02-07</td>\n      <td>79</td>\n      <td>3</td>\n      <td>2</td>\n      <td>2019</td>\n      <td>6</td>\n      <td>18333.333333</td>\n    </tr>\n    <tr>\n      <th>3</th>\n      <td>1500</td>\n      <td>2003</td>\n      <td>ford f-150</td>\n      <td>1</td>\n      <td>8</td>\n      <td>gas</td>\n      <td>161397</td>\n      <td>automatic</td>\n      <td>pickup</td>\n      <td>not_specified</td>\n      <td>False</td>\n      <td>2019-03-22</td>\n      <td>9</td>\n      <td>4</td>\n      <td>3</td>\n      <td>2019</td>\n      <td>16</td>\n      <td>10087.312500</td>\n    </tr>\n    <tr>\n      <th>4</th>\n      <td>14900</td>\n      <td>2017</td>\n      <td>chrysler 200</td>\n      <td>3</td>\n      <td>4</td>\n      <td>gas</td>\n      <td>80903</td>\n      <td>automatic</td>\n      <td>sedan</td>\n      <td>black</td>\n      <td>False</td>\n      <td>2019-04-02</td>\n      <td>28</td>\n      <td>1</td>\n      <td>4</td>\n      <td>2019</td>\n      <td>2</td>\n      <td>40451.500000</td>\n    </tr>\n    <tr>\n      <th>5</th>\n      <td>14990</td>\n      <td>2014</td>\n      <td>chrysler 300</td>\n      <td>3</td>\n      <td>6</td>\n      <td>gas</td>\n      <td>57954</td>\n      <td>automatic</td>\n      <td>sedan</td>\n      <td>black</td>\n      <td>True</td>\n      <td>2018-06-20</td>\n      <td>15</td>\n      <td>2</td>\n      <td>6</td>\n      <td>2018</td>\n      <td>4</td>\n      <td>14488.500000</td>\n    </tr>\n  </tbody>\n</table>\n</div>"
     },
     "execution_count": 37,
     "metadata": {},
     "output_type": "execute_result"
    }
   ],
   "source": [
    "# imprimir una muestra de datos\n",
    "data.head()"
   ]
  },
  {
   "cell_type": "markdown",
   "metadata": {},
   "source": [
    "## Estudiar parámetros principales\n",
    "\n",
    "Para la primera parte de nuestro análisis vamos a estudiar los principales parámetros del dataframe, principalmente viendo su distribución y en caso de tener valores atípicos, tratarlos.\n",
    "\n",
    "Los parámetros son:\n",
    "- Precio\n",
    "- Los años del vehículo cuando el anuncio se colocó\n",
    "- Millaje\n",
    "- Número de cilindros\n",
    "- Estado"
   ]
  },
  {
   "cell_type": "code",
   "execution_count": 38,
   "metadata": {
    "ExecuteTime": {
     "end_time": "2023-07-18T04:20:19.312608400Z",
     "start_time": "2023-07-18T04:20:19.076611800Z"
    }
   },
   "outputs": [],
   "source": [
    "# Funcion para la creación del histograma y la tabla resumida\n",
    "def estudiar_parametros(parametro):\n",
    "    data.hist(parametro)\n",
    "    print(data[parametro].describe())"
   ]
  },
  {
   "cell_type": "code",
   "execution_count": 39,
   "metadata": {
    "ExecuteTime": {
     "end_time": "2023-07-18T04:20:19.499609600Z",
     "start_time": "2023-07-18T04:20:19.087610Z"
    }
   },
   "outputs": [
    {
     "name": "stdout",
     "output_type": "stream",
     "text": [
      "count     47906.000000\n",
      "mean      12160.465203\n",
      "std       10082.453773\n",
      "min           1.000000\n",
      "25%        5000.000000\n",
      "50%        9000.000000\n",
      "75%       16900.000000\n",
      "max      375000.000000\n",
      "Name: price, dtype: float64\n"
     ]
    },
    {
     "data": {
      "text/plain": "<Figure size 432x288 with 1 Axes>",
      "image/png": "[encoded data removed]"
     },
     "metadata": {},
     "output_type": "display_data"
    }
   ],
   "source": [
    "# Price\n",
    "estudiar_parametros('price')"
   ]
  },
  {
   "cell_type": "markdown",
   "metadata": {},
   "source": [
    "Como podemos ver en la gráfica del parámetro `price`, la mayoria de los datos estan agrupados entre el 0 y los 40,000 dolares, sin embargo nuestra grafica llega hasta los 350,000 dolares y viendo nuestra tabla vemos como nuestro valor máximo es 375000 dolares. Claramente tenemos valores atípicos pero no solo por arriba, podemos ver que nuestro valor minimo es un dolar y eso nos puede indicar claramente un valor atipico por debajo"
   ]
  },
  {
   "cell_type": "code",
   "execution_count": 40,
   "metadata": {
    "ExecuteTime": {
     "end_time": "2023-07-18T04:20:19.828609700Z",
     "start_time": "2023-07-18T04:20:19.379631100Z"
    }
   },
   "outputs": [
    {
     "name": "stdout",
     "output_type": "stream",
     "text": [
      "count    47906.000000\n",
      "mean         8.556966\n",
      "std          6.295266\n",
      "min          0.000000\n",
      "25%          4.000000\n",
      "50%          7.000000\n",
      "75%         12.000000\n",
      "max        110.000000\n",
      "Name: years_car, dtype: float64\n"
     ]
    },
    {
     "data": {
      "text/plain": "<Figure size 432x288 with 1 Axes>",
      "image/png": "[encoded data removed]"
     },
     "metadata": {},
     "output_type": "display_data"
    }
   ],
   "source": [
    "# Years_car\n",
    "estudiar_parametros('years_car')"
   ]
  },
  {
   "cell_type": "markdown",
   "metadata": {},
   "source": [
    "Como podemos ver en la grafica, la mayoria de nuestros datos estan agrupados entre 0 y 20 años, posterior a esos años tenemos muy pocos datos. Claramente este parametro presenta datos atípicos (el más alto de ellos, un auto con antiguedad de 110 años). Incluso apoyados por nuestra tabla vemos que el 75% datos estan agrupados antes de los 12 años de vida y por ultimo, al ver la desviación estandar podemos notar que tenemos 6 años de desviación respecto a la media, es una dispersión muy alta."
   ]
  },
  {
   "cell_type": "code",
   "execution_count": 41,
   "metadata": {
    "ExecuteTime": {
     "end_time": "2023-07-18T04:20:20.043611700Z",
     "start_time": "2023-07-18T04:20:19.660609400Z"
    }
   },
   "outputs": [
    {
     "name": "stdout",
     "output_type": "stream",
     "text": [
      "count     47906.000000\n",
      "mean     115052.330648\n",
      "std       62320.971109\n",
      "min           0.000000\n",
      "25%       73000.000000\n",
      "50%      113883.500000\n",
      "75%      153000.000000\n",
      "max      990000.000000\n",
      "Name: odometer, dtype: float64\n"
     ]
    },
    {
     "data": {
      "text/plain": "<Figure size 432x288 with 1 Axes>",
      "image/png": "[encoded data removed]"
     },
     "metadata": {},
     "output_type": "display_data"
    }
   ],
   "source": [
    "# Odometer\n",
    "estudiar_parametros('odometer')"
   ]
  },
  {
   "cell_type": "markdown",
   "metadata": {},
   "source": [
    "Al observar la grafica de nuestro parametro de millaje, podemos notar como nuestros datos estan principlamente agrupados entre el 0 y las 200,000 millas. Posterior a esto, tenemos varios datos dispersos hasta llegar a un máximo de 990000 millas; claramente nuestro parámetro tiene valores atípicos que tenemos que tratar"
   ]
  },
  {
   "cell_type": "code",
   "execution_count": 42,
   "metadata": {
    "ExecuteTime": {
     "end_time": "2023-07-18T04:20:20.264616700Z",
     "start_time": "2023-07-18T04:20:19.988613400Z"
    }
   },
   "outputs": [
    {
     "name": "stdout",
     "output_type": "stream",
     "text": [
      "count    47906.000000\n",
      "mean         6.121843\n",
      "std          1.656820\n",
      "min          3.000000\n",
      "25%          4.000000\n",
      "50%          6.000000\n",
      "75%          8.000000\n",
      "max         12.000000\n",
      "Name: cylinders, dtype: float64\n"
     ]
    },
    {
     "data": {
      "text/plain": "<Figure size 432x288 with 1 Axes>",
      "image/png": "[encoded data removed]"
     },
     "metadata": {},
     "output_type": "display_data"
    }
   ],
   "source": [
    "# Cylinders\n",
    "estudiar_parametros('cylinders')"
   ]
  },
  {
   "cell_type": "markdown",
   "metadata": {},
   "source": [
    "Pasando a nuestro parámetro de cilindros, podemos notar que los datos se agrupan principalmente en 4,6 y 8 cilindros mientras que para los demás valores tenemos algunos datos dispersos."
   ]
  },
  {
   "cell_type": "code",
   "execution_count": 43,
   "metadata": {
    "ExecuteTime": {
     "end_time": "2023-07-18T04:20:20.640619900Z",
     "start_time": "2023-07-18T04:20:20.237608900Z"
    }
   },
   "outputs": [
    {
     "name": "stdout",
     "output_type": "stream",
     "text": [
      "count    47906.000000\n",
      "mean         2.638605\n",
      "std          0.711839\n",
      "min          0.000000\n",
      "25%          2.000000\n",
      "50%          3.000000\n",
      "75%          3.000000\n",
      "max          5.000000\n",
      "Name: condition, dtype: float64\n"
     ]
    },
    {
     "data": {
      "text/plain": "<Figure size 432x288 with 1 Axes>",
      "image/png": "[encoded data removed]"
     },
     "metadata": {},
     "output_type": "display_data"
    }
   ],
   "source": [
    "# condition\n",
    "estudiar_parametros('condition')"
   ]
  },
  {
   "cell_type": "markdown",
   "metadata": {},
   "source": [
    "Pasando a nuestro parámetro de condición del vehiculo, podemos notar que la mayoria de nuestros valores se agrupan principlamente en bien, excelente y como nuevo (2,3 y 4) mientras que para los demás valores tenemos algundos datos dispersos."
   ]
  },
  {
   "cell_type": "markdown",
   "metadata": {},
   "source": [
    "## Estudiar y tratar valores atípicos\n",
    "\n",
    "Viendo los resultados anteriores, identificamos que los siguientes parametros tienen valores atípicos que necesitan ser tratados. Vamos a definir sus limites inferiores y superiores y cualquier dato por debajo o encima de esos limites sera eliminado.\n",
    "\n",
    "- Precio\n",
    "- Los años del vehículo cuando el anuncio se colocó\n",
    "- Millaje"
   ]
  },
  {
   "cell_type": "code",
   "execution_count": 44,
   "metadata": {
    "ExecuteTime": {
     "end_time": "2023-07-18T04:20:20.670624200Z",
     "start_time": "2023-07-18T04:20:20.520612Z"
    }
   },
   "outputs": [],
   "source": [
    "# Definimos una función para sacar el IQR de cada parámetro.\n",
    "def iqr(parametro):\n",
    "    return data[parametro].quantile(0.75) - data[parametro].quantile(0.25)"
   ]
  },
  {
   "cell_type": "code",
   "execution_count": 45,
   "metadata": {
    "ExecuteTime": {
     "end_time": "2023-07-18T04:20:20.671626800Z",
     "start_time": "2023-07-18T04:20:20.538611500Z"
    }
   },
   "outputs": [],
   "source": [
    "# Determina los límites inferiores para valores atípicos\n",
    "def limite_inferior(parametro):\n",
    "    return data[parametro].quantile(0.25) - (1.5 * iqr(parametro))"
   ]
  },
  {
   "cell_type": "code",
   "execution_count": 46,
   "metadata": {
    "ExecuteTime": {
     "end_time": "2023-07-18T04:20:20.671626800Z",
     "start_time": "2023-07-18T04:20:20.552608700Z"
    }
   },
   "outputs": [],
   "source": [
    "# Determinar los límites superiores para valores atípicos\n",
    "def limite_superior(parametro):\n",
    "    return data[parametro].quantile(0.75) + (1.5 * iqr(parametro))"
   ]
  },
  {
   "cell_type": "code",
   "execution_count": 47,
   "metadata": {
    "ExecuteTime": {
     "end_time": "2023-07-18T04:20:20.673610200Z",
     "start_time": "2023-07-18T04:20:20.568610900Z"
    }
   },
   "outputs": [],
   "source": [
    "# Almacena los datos sin valores atípicos en un DataFrame separado\n",
    "parametros = ['price', 'years_car', 'odometer']\n",
    "data_sin_atipicos = data\n",
    "for parametro in parametros:\n",
    "    inferior = limite_inferior(parametro)\n",
    "    superior = limite_superior(parametro)\n",
    "    data_sin_atipicos = data_sin_atipicos[(data_sin_atipicos[parametro] > inferior) & (data_sin_atipicos[parametro] < superior)]"
   ]
  },
  {
   "cell_type": "markdown",
   "metadata": {},
   "source": [
    "## Estudiar parámetros principales sin valores atípicos"
   ]
  },
  {
   "cell_type": "code",
   "execution_count": 48,
   "metadata": {
    "ExecuteTime": {
     "end_time": "2023-07-18T04:20:21.856637Z",
     "start_time": "2023-07-18T04:20:20.627610400Z"
    }
   },
   "outputs": [
    {
     "data": {
      "text/plain": "<Figure size 1080x1080 with 6 Axes>",
      "image/png": "[encoded data removed]"
     },
     "metadata": {},
     "output_type": "display_data"
    }
   ],
   "source": [
    "fig, axs = plt.subplots(3, 2, figsize=(15, 15))\n",
    "x = 0\n",
    "y = 0\n",
    "\n",
    "for parametro in parametros:\n",
    "    axs[x,y].hist(x=parametro, data=data)\n",
    "    axs[x,y+1].hist(x=parametro, data=data_sin_atipicos)\n",
    "    if x == 0:\n",
    "        axs[x, y].set_title('Data con outliers\\n\\n Price')\n",
    "        axs[x, y+1].set_title('Data sin outliers\\n\\n Price')\n",
    "    else:\n",
    "        axs[x, y].set_title(parametro)\n",
    "        axs[x, y+1].set_title(parametro)\n",
    "    x += 1"
   ]
  },
  {
   "cell_type": "markdown",
   "metadata": {},
   "source": [
    "Una vez eliminados los outliers podemos ver que las graficas cambiaron bastante respecto al paso anterior. \n",
    "\n",
    "Price (precio): Al eliminar los outliers, podemos notar como los picos de mayor oferta de automoviles es de entre los 5000 y los 10,000 dolares, mientras que los picos medios de ofeta van desde los 0 hasta los 4,000 dolares y luego de los 10,000 a los 17 0 18,000 dolares.\n",
    "\n",
    "Years_car (años de antigüedad del automovil): Ya sin los outliers, podemos notar como el pico más alto de oferta son autos con una antigüedad de 7-8 años mientras que hay una oferta media de autos nuevos hasta pasando los 15 años, una vez pasados estos años la oferta decae abruptamente.\n",
    "\n",
    "Odometer (millaje): Podemos notar en la nueva grafica, como el pico más alto de oferta son vehiculos con un millaje entre las 110,000 y las 130,000 millas mientras que la oferta de carros con mucho o poco millaje decae de ambos lados."
   ]
  },
  {
   "cell_type": "markdown",
   "metadata": {},
   "source": [
    "## Periodo de colocación de los anuncios\n",
    "\n",
    "A continuación haremos un analisis de como se desarrollan los dias de colocación de anuncias, los tiempos que estan en la plataforma y que influye en ellos"
   ]
  },
  {
   "cell_type": "code",
   "execution_count": 49,
   "metadata": {
    "ExecuteTime": {
     "end_time": "2023-07-18T04:20:22.094610400Z",
     "start_time": "2023-07-18T04:20:21.855613Z"
    }
   },
   "outputs": [
    {
     "name": "stdout",
     "output_type": "stream",
     "text": [
      "La media de días publicados es: 39.554142110530414\n",
      "La mediana de días publicados es: 33.0\n"
     ]
    },
    {
     "data": {
      "text/plain": "<Figure size 432x288 with 1 Axes>",
      "image/png": "[encoded data removed]"
     },
     "metadata": {},
     "output_type": "display_data"
    }
   ],
   "source": [
    "data_sin_atipicos.hist('days_listed')\n",
    "print('La media de días publicados es:', data_sin_atipicos.days_listed.mean())\n",
    "print('La mediana de días publicados es:', data_sin_atipicos.days_listed.median())"
   ]
  },
  {
   "cell_type": "markdown",
   "metadata": {},
   "source": [
    "Como podemos ver, la mayoria de nuestros anuncios tienen una vida util entre los 0 dias y los 50-60 dias. En promedio, un anuncio esta 39 dias en la plataforma.\n",
    "\n",
    "Unos detalles a considerar es que tenemos algunos anuncios que representan valores atipicos para nuestro parametro, el tiempo más largo que tenemos registrado son 271 dias. Por lo otro lado, tambien tenemos un alto número de anuncios que estan menos de 25 dias en la plataforma (algunos incluso el mismo dia que se publican, se eliminan del catalogo)"
   ]
  },
  {
   "cell_type": "markdown",
   "metadata": {},
   "source": [
    "## Precio promedio por cada tipo de vehículo"
   ]
  },
  {
   "cell_type": "markdown",
   "metadata": {},
   "source": [
    "En el siguiente apartado haremos un análisis del número de anuncios y precio promedio por cada uno de los tipos de vehiculo.\n",
    "\n",
    "Veremos la dependencia de la cantidad de anuncios por tipo de vehiculo y generaremos algunos insights"
   ]
  },
  {
   "cell_type": "code",
   "execution_count": 50,
   "metadata": {
    "ExecuteTime": {
     "end_time": "2023-07-18T04:20:22.113610500Z",
     "start_time": "2023-07-18T04:20:22.085611600Z"
    }
   },
   "outputs": [
    {
     "data": {
      "text/plain": "           type  count          mean\n0           SUV  11043  10465.436747\n1           bus     21  18107.428571\n2   convertible    316  12999.996835\n3         coupe   1875  13565.886933\n4     hatchback    934   6852.620985\n5      mini-van   1065   8051.369014\n6       offroad    173  14476.687861\n7         other    211  10366.772512\n8        pickup   5827  15131.135576\n9         sedan  11187   7002.854563\n10        truck  10364  15114.960826\n11          van    552   8749.543478\n12        wagon   1397   8989.247674",
      "text/html": "<div>\n<style scoped>\n    .dataframe tbody tr th:only-of-type {\n        vertical-align: middle;\n    }\n\n    .dataframe tbody tr th {\n        vertical-align: top;\n    }\n\n    .dataframe thead th {\n        text-align: right;\n    }\n</style>\n<table border=\"1\" class=\"dataframe\">\n  <thead>\n    <tr style=\"text-align: right;\">\n      <th></th>\n      <th>type</th>\n      <th>count</th>\n      <th>mean</th>\n    </tr>\n  </thead>\n  <tbody>\n    <tr>\n      <th>0</th>\n      <td>SUV</td>\n      <td>11043</td>\n      <td>10465.436747</td>\n    </tr>\n    <tr>\n      <th>1</th>\n      <td>bus</td>\n      <td>21</td>\n      <td>18107.428571</td>\n    </tr>\n    <tr>\n      <th>2</th>\n      <td>convertible</td>\n      <td>316</td>\n      <td>12999.996835</td>\n    </tr>\n    <tr>\n      <th>3</th>\n      <td>coupe</td>\n      <td>1875</td>\n      <td>13565.886933</td>\n    </tr>\n    <tr>\n      <th>4</th>\n      <td>hatchback</td>\n      <td>934</td>\n      <td>6852.620985</td>\n    </tr>\n    <tr>\n      <th>5</th>\n      <td>mini-van</td>\n      <td>1065</td>\n      <td>8051.369014</td>\n    </tr>\n    <tr>\n      <th>6</th>\n      <td>offroad</td>\n      <td>173</td>\n      <td>14476.687861</td>\n    </tr>\n    <tr>\n      <th>7</th>\n      <td>other</td>\n      <td>211</td>\n      <td>10366.772512</td>\n    </tr>\n    <tr>\n      <th>8</th>\n      <td>pickup</td>\n      <td>5827</td>\n      <td>15131.135576</td>\n    </tr>\n    <tr>\n      <th>9</th>\n      <td>sedan</td>\n      <td>11187</td>\n      <td>7002.854563</td>\n    </tr>\n    <tr>\n      <th>10</th>\n      <td>truck</td>\n      <td>10364</td>\n      <td>15114.960826</td>\n    </tr>\n    <tr>\n      <th>11</th>\n      <td>van</td>\n      <td>552</td>\n      <td>8749.543478</td>\n    </tr>\n    <tr>\n      <th>12</th>\n      <td>wagon</td>\n      <td>1397</td>\n      <td>8989.247674</td>\n    </tr>\n  </tbody>\n</table>\n</div>"
     },
     "execution_count": 50,
     "metadata": {},
     "output_type": "execute_result"
    }
   ],
   "source": [
    "# Tabla de precios promedio y cantidad de anuncios por tipo de vehiculo\n",
    "tabla_precio_nanuncios = (data_sin_atipicos.groupby(['type'])['price']\n",
    ".agg(['count', 'mean']).reset_index())\n",
    "tabla_precio_nanuncios"
   ]
  },
  {
   "cell_type": "code",
   "execution_count": 51,
   "metadata": {
    "ExecuteTime": {
     "end_time": "2023-07-18T04:20:22.562606800Z",
     "start_time": "2023-07-18T04:20:22.115617600Z"
    }
   },
   "outputs": [
    {
     "data": {
      "text/plain": "Text(0, 0.5, 'Tipo de vehiculo')"
     },
     "execution_count": 51,
     "metadata": {},
     "output_type": "execute_result"
    },
    {
     "data": {
      "text/plain": "<Figure size 432x288 with 1 Axes>",
      "image/png": "[encoded data removed]"
     },
     "metadata": {},
     "output_type": "display_data"
    }
   ],
   "source": [
    "# Grafico para ver la dependencia de la cantidad de vehiculos por cada tipo\n",
    "tabla_precio_nanuncios.plot(x='type', y='count', grid=True, kind='barh',\n",
    "                            title='Número de vehiculos por tipo')\n",
    "# Seteamos los label\n",
    "plt.xlabel(\"Cantidad de vehiculos\")\n",
    "plt.ylabel(\"Tipo de vehiculo\")"
   ]
  },
  {
   "cell_type": "markdown",
   "metadata": {},
   "source": [
    "Como podemos observar en la gráfica, los vehiculos que más anuncios tienen son:\n",
    "1. Sedan\n",
    "2. SUV\n",
    "3. Truck\n",
    "\n",
    "Tambien, apoyados por nuestra tabla, podemos ver los vehiculos sedan son de los que tienen un precio promedio más barato, mientras que el tipo Truck es de lo más caros en promedio."
   ]
  },
  {
   "cell_type": "markdown",
   "metadata": {},
   "source": [
    "## Factores de precio"
   ]
  },
  {
   "cell_type": "markdown",
   "metadata": {},
   "source": [
    "Para nuestro último análisis, vamos a ver que factores impactan más sobre el precio de los vehiculos. Para esto, seleccionaremos el top 2 tipos de vehiculos y estudiaremos los siguientes parametros (edad del vehiculo, millaje, condición, tipo de transmisión y color) y veremos que tanto influyen en nuestro precio final."
   ]
  },
  {
   "cell_type": "code",
   "execution_count": 52,
   "metadata": {
    "ExecuteTime": {
     "end_time": "2023-07-18T04:20:22.563607Z",
     "start_time": "2023-07-18T04:20:22.413613Z"
    }
   },
   "outputs": [
    {
     "data": {
      "text/plain": "SUV      11486\nsedan    11306\nName: type, dtype: int64"
     },
     "execution_count": 52,
     "metadata": {},
     "output_type": "execute_result"
    }
   ],
   "source": [
    "data_analisis = data.query(\"type == 'sedan' or type == 'SUV'\")\n",
    "data_analisis.type.value_counts()"
   ]
  },
  {
   "cell_type": "markdown",
   "metadata": {},
   "source": [
    "Para las variables categóricas (tipo de transmisión y color) utilizaremos graficas de bigote para poder analizarlas. Aunado a esto, si alguna de las categorias no llega a un minimo de 50 datos, los eliminaremos del análisis."
   ]
  },
  {
   "cell_type": "code",
   "execution_count": 53,
   "metadata": {
    "ExecuteTime": {
     "end_time": "2023-07-18T04:20:22.564609200Z",
     "start_time": "2023-07-18T04:20:22.447620700Z"
    }
   },
   "outputs": [
    {
     "name": "stdout",
     "output_type": "stream",
     "text": [
      "not_specified    4110\n",
      "black            3733\n",
      "silver           3354\n",
      "white            3217\n",
      "grey             2608\n",
      "blue             2107\n",
      "red              1734\n",
      "green             587\n",
      "brown             570\n",
      "custom            563\n",
      "orange             81\n",
      "yellow             66\n",
      "purple             62\n",
      "Name: paint_color, dtype: int64\n",
      "\n",
      "automatic    21485\n",
      "manual        1032\n",
      "other          275\n",
      "Name: transmission, dtype: int64\n"
     ]
    }
   ],
   "source": [
    "# Verificamos si las categorias de nuestros parametros cumplen los 50 datos mínimos.\n",
    "print(data_analisis.paint_color.value_counts())\n",
    "print()\n",
    "print(data_analisis.transmission.value_counts())"
   ]
  },
  {
   "cell_type": "code",
   "execution_count": 54,
   "metadata": {
    "ExecuteTime": {
     "end_time": "2023-07-18T04:20:23.273611500Z",
     "start_time": "2023-07-18T04:20:22.462613300Z"
    }
   },
   "outputs": [
    {
     "data": {
      "text/plain": "<AxesSubplot:title={'center':'price'}, xlabel='transmission'>"
     },
     "execution_count": 54,
     "metadata": {},
     "output_type": "execute_result"
    },
    {
     "data": {
      "text/plain": "<Figure size 1080x432 with 1 Axes>",
      "image/png": "[encoded data removed]"
     },
     "metadata": {},
     "output_type": "display_data"
    },
    {
     "data": {
      "text/plain": "<Figure size 1080x432 with 1 Axes>",
      "image/png": "[encoded data removed]"
     },
     "metadata": {},
     "output_type": "display_data"
    }
   ],
   "source": [
    "# Una vez verficadas nuestros parametros, hacemos las gráficas\n",
    "data_analisis.boxplot(column=\"price\", by=\"paint_color\", figsize=(15,6))\n",
    "data_analisis.boxplot(column=\"price\", by=\"transmission\", figsize=(15,6))"
   ]
  },
  {
   "cell_type": "markdown",
   "metadata": {},
   "source": [
    "Viendo nuestros primeros gráficos, podemos notar los siguientes insights:\n",
    "\n",
    "1. El tipo de color influye en el coste del vehiculo, podemos identificar que los colores negro, naranja y amarillo hacen que el precio se eleve en comparación a otros colores.\n",
    "\n",
    "2. La transmisión automática tiende a ser un poco más cara que la manual, sin embargo vemos que entre categorias el precio no se mueve mucho por lo que no la consideramos clave para el precio"
   ]
  },
  {
   "cell_type": "markdown",
   "metadata": {},
   "source": [
    "Para las variables númericas (edad del vehiculo, millaje y condición) utilizaremos matrices y diagramas de correlación."
   ]
  },
  {
   "cell_type": "code",
   "execution_count": 55,
   "metadata": {
    "ExecuteTime": {
     "end_time": "2023-07-18T04:20:23.398609800Z",
     "start_time": "2023-07-18T04:20:23.254614700Z"
    }
   },
   "outputs": [
    {
     "data": {
      "text/plain": "   price  odometer  condition  years_car\n0   9400    145000          2          7\n1   5500    110000          4          6\n2  14900     80903          3          2\n3  14990     57954          3          4\n4  12990     79212          3          3",
      "text/html": "<div>\n<style scoped>\n    .dataframe tbody tr th:only-of-type {\n        vertical-align: middle;\n    }\n\n    .dataframe tbody tr th {\n        vertical-align: top;\n    }\n\n    .dataframe thead th {\n        text-align: right;\n    }\n</style>\n<table border=\"1\" class=\"dataframe\">\n  <thead>\n    <tr style=\"text-align: right;\">\n      <th></th>\n      <th>price</th>\n      <th>odometer</th>\n      <th>condition</th>\n      <th>years_car</th>\n    </tr>\n  </thead>\n  <tbody>\n    <tr>\n      <th>0</th>\n      <td>9400</td>\n      <td>145000</td>\n      <td>2</td>\n      <td>7</td>\n    </tr>\n    <tr>\n      <th>1</th>\n      <td>5500</td>\n      <td>110000</td>\n      <td>4</td>\n      <td>6</td>\n    </tr>\n    <tr>\n      <th>2</th>\n      <td>14900</td>\n      <td>80903</td>\n      <td>3</td>\n      <td>2</td>\n    </tr>\n    <tr>\n      <th>3</th>\n      <td>14990</td>\n      <td>57954</td>\n      <td>3</td>\n      <td>4</td>\n    </tr>\n    <tr>\n      <th>4</th>\n      <td>12990</td>\n      <td>79212</td>\n      <td>3</td>\n      <td>3</td>\n    </tr>\n  </tbody>\n</table>\n</div>"
     },
     "execution_count": 55,
     "metadata": {},
     "output_type": "execute_result"
    }
   ],
   "source": [
    "# Seleccionamos las columnas para nuestro análisis\n",
    "data_numerica = data_analisis[['price', 'odometer', 'condition', 'years_car']].reset_index(drop=True)\n",
    "data_numerica.head()"
   ]
  },
  {
   "cell_type": "code",
   "execution_count": 56,
   "metadata": {
    "ExecuteTime": {
     "end_time": "2023-07-18T04:20:23.400610900Z",
     "start_time": "2023-07-18T04:20:23.268610500Z"
    }
   },
   "outputs": [
    {
     "name": "stdout",
     "output_type": "stream",
     "text": [
      "              price  odometer  condition  years_car\n",
      "price      1.000000 -0.455535   0.247414  -0.491072\n",
      "odometer  -0.455535  1.000000  -0.323386   0.593039\n",
      "condition  0.247414 -0.323386   1.000000  -0.315802\n",
      "years_car -0.491072  0.593039  -0.315802   1.000000\n"
     ]
    }
   ],
   "source": [
    "print(data_numerica.corr())"
   ]
  },
  {
   "cell_type": "code",
   "execution_count": 57,
   "metadata": {
    "ExecuteTime": {
     "end_time": "2023-07-18T04:20:24.210608800Z",
     "start_time": "2023-07-18T04:20:23.300613100Z"
    }
   },
   "outputs": [
    {
     "data": {
      "text/plain": "<Figure size 432x288 with 1 Axes>",
      "image/png": "[encoded data removed]"
     },
     "metadata": {},
     "output_type": "display_data"
    },
    {
     "data": {
      "text/plain": "<Figure size 432x288 with 1 Axes>",
      "image/png": "[encoded data removed]"
     },
     "metadata": {},
     "output_type": "display_data"
    },
    {
     "data": {
      "text/plain": "<Figure size 432x288 with 1 Axes>",
      "image/png": "[encoded data removed]"
     },
     "metadata": {},
     "output_type": "display_data"
    }
   ],
   "source": [
    "parametros = ['odometer', 'condition', 'years_car']\n",
    "\n",
    "for parametro in parametros:\n",
    "    data_numerica.plot(x=parametro, y='price', kind='scatter', c='blue')"
   ]
  },
  {
   "cell_type": "markdown",
   "metadata": {},
   "source": [
    "Viendo nuestros gráficos y matriz de correlación, podemos notar los siguientes insights:\n",
    "\n",
    "1. El precio tiene correlación negativa con el millaje, esto nos indica que mientras más millaje, el precio empieza a ir bajando; por lo que es un factor determinante.\n",
    "\n",
    "2. Podemos notar que en el parámetro de condición, las categorias de 2 a 5 (bien a nuevo) son las que mayor precio presentan en comparación a las otras categorias, sin embargo consideramos que no es un factor ya que autos nuevos y casi nuevos tienen menores precios que autos con calidad 3 y que si fuera factor, se veria una tendencia\n",
    "\n",
    "3. El precio tiene correlación negativa con la edad de los vehiculos; mientras más años tenga el carro, su precio sera más bajo. Esto nos hace considerarla como un factor determinante para el precio del vehiculo."
   ]
  },
  {
   "cell_type": "markdown",
   "metadata": {},
   "source": [
    "## Conclusión general\n",
    "\n",
    "Una vez analizados los datos del sitio web, podemos dar estos insigths finales:\n",
    "\n",
    "1. Las columnas con mayor porcentaje de valores ausentes son: `model_year`, `cylinders`, `odometer` y `paint_color`. Se recomienda hacer ajustes en el ingreso de estos datos para evitar el lo menos de posible que el usuario deje el espacio vacio. Tal vez agregando opciones predeterminadas o haciendolo campos obligatorios.\n",
    "\n",
    "2. Los vehiculos más ofertado estan entre los 5,000 y 10,000 dolares, cuentan con una antiguedad de 7-8 años y con un millaje entre las 110,000 y 130,000 millas\n",
    "\n",
    "3. Los anuncios tienen una media de 40 dias de publicación antes de que se eliminen por los usuarios.\n",
    "\n",
    "4. Los tipos más ofertados en nuestro sitio web son el Sedan, SUV y Truck. Los tipos Sedan son los autos con precio más bajo mientras que los tipo Truck son de los más caros.\n",
    "\n",
    "5. Los precios de los automoviles Sedan y SUV estan principalmente influenciados por el millaje, edad del vehiculo y el color de este (los colores negro, amarillo y naranja son los colores que más elevan el precio)"
   ]
  }
 ],
 "metadata": {
  "ExecuteTimeLog": [
   {
    "duration": 828,
    "start_time": "2021-11-16T09:21:11.304Z"
   },
   {
    "duration": 893,
    "start_time": "2021-11-16T09:21:17.728Z"
   },
   {
    "duration": 1150,
    "start_time": "2021-11-16T09:21:29.568Z"
   },
   {
    "duration": 3,
    "start_time": "2021-11-16T09:24:14.495Z"
   },
   {
    "duration": 120,
    "start_time": "2021-11-16T09:24:46.630Z"
   },
   {
    "duration": 3,
    "start_time": "2021-11-16T09:28:27.882Z"
   },
   {
    "duration": 4,
    "start_time": "2021-11-16T09:29:54.281Z"
   },
   {
    "duration": 3,
    "start_time": "2021-11-16T09:30:45.936Z"
   },
   {
    "duration": 4,
    "start_time": "2021-11-16T09:31:06.300Z"
   },
   {
    "duration": 113,
    "start_time": "2021-11-16T09:31:37.208Z"
   },
   {
    "duration": 143,
    "start_time": "2021-11-16T09:31:48.656Z"
   },
   {
    "duration": 98,
    "start_time": "2021-11-16T09:31:55.678Z"
   },
   {
    "duration": 3,
    "start_time": "2021-11-16T09:32:08.535Z"
   },
   {
    "duration": 111,
    "start_time": "2021-11-16T09:32:10.120Z"
   },
   {
    "duration": 3,
    "start_time": "2021-11-16T09:32:15.732Z"
   },
   {
    "duration": 4,
    "start_time": "2021-11-16T09:32:29.423Z"
   },
   {
    "duration": 3,
    "start_time": "2021-11-16T10:03:03.074Z"
   },
   {
    "duration": 3,
    "start_time": "2021-11-16T10:10:01.288Z"
   },
   {
    "duration": 3,
    "start_time": "2021-11-16T10:10:46.923Z"
   },
   {
    "duration": 121,
    "start_time": "2021-11-16T10:37:46.494Z"
   },
   {
    "duration": 125,
    "start_time": "2021-11-16T10:38:20.632Z"
   },
   {
    "duration": 112,
    "start_time": "2021-11-16T10:46:53.001Z"
   },
   {
    "duration": 110,
    "start_time": "2021-11-16T10:48:25.775Z"
   },
   {
    "duration": 3,
    "start_time": "2021-11-16T10:50:18.720Z"
   },
   {
    "duration": 4,
    "start_time": "2021-11-16T10:50:37.649Z"
   },
   {
    "duration": 2,
    "start_time": "2021-11-16T10:50:51.884Z"
   },
   {
    "duration": 3,
    "start_time": "2021-11-16T10:51:56.237Z"
   },
   {
    "duration": 101,
    "start_time": "2021-11-16T10:53:13.791Z"
   },
   {
    "duration": 3,
    "start_time": "2021-11-16T10:55:59.186Z"
   },
   {
    "duration": 3,
    "start_time": "2021-11-16T10:56:10.751Z"
   },
   {
    "duration": 3,
    "start_time": "2021-11-16T10:56:49.038Z"
   },
   {
    "duration": 3,
    "start_time": "2021-11-16T10:56:49.174Z"
   },
   {
    "duration": 4,
    "start_time": "2021-11-16T10:56:49.414Z"
   },
   {
    "duration": 3,
    "start_time": "2021-11-16T10:56:49.680Z"
   },
   {
    "duration": 3,
    "start_time": "2021-11-16T10:56:50.370Z"
   },
   {
    "duration": 114,
    "start_time": "2021-11-16T10:59:34.518Z"
   },
   {
    "duration": 3,
    "start_time": "2021-11-16T11:01:41.201Z"
   },
   {
    "duration": 116,
    "start_time": "2021-11-16T11:01:48.754Z"
   },
   {
    "duration": 3,
    "start_time": "2021-11-16T11:02:16.685Z"
   },
   {
    "duration": 3,
    "start_time": "2021-11-16T11:02:19.479Z"
   },
   {
    "duration": 3,
    "start_time": "2021-11-16T11:02:47.067Z"
   },
   {
    "duration": 3,
    "start_time": "2021-11-16T11:02:49.353Z"
   },
   {
    "duration": 3,
    "start_time": "2021-11-16T11:03:07.835Z"
   },
   {
    "duration": 3,
    "start_time": "2021-11-16T11:03:07.953Z"
   },
   {
    "duration": 112,
    "start_time": "2021-11-16T11:07:52.072Z"
   },
   {
    "duration": 187,
    "start_time": "2021-11-16T11:09:23.468Z"
   },
   {
    "duration": 4,
    "start_time": "2021-11-16T11:10:01.455Z"
   },
   {
    "duration": 3,
    "start_time": "2021-11-16T11:10:05.069Z"
   },
   {
    "duration": 4,
    "start_time": "2021-11-16T11:10:13.376Z"
   },
   {
    "duration": 3,
    "start_time": "2021-11-16T11:10:14.434Z"
   },
   {
    "duration": 3,
    "start_time": "2021-11-16T11:10:22.853Z"
   },
   {
    "duration": 4,
    "start_time": "2021-11-16T11:27:29.279Z"
   },
   {
    "duration": 4,
    "start_time": "2021-11-16T11:29:08.919Z"
   },
   {
    "duration": 118,
    "start_time": "2021-11-16T11:29:46.703Z"
   },
   {
    "duration": 437,
    "start_time": "2021-11-16T11:36:02.181Z"
   },
   {
    "duration": 157,
    "start_time": "2021-11-16T11:36:14.388Z"
   },
   {
    "duration": 207,
    "start_time": "2021-11-16T11:47:15.898Z"
   },
   {
    "duration": 3,
    "start_time": "2021-11-16T11:53:52.092Z"
   },
   {
    "duration": 3,
    "start_time": "2021-11-16T11:53:52.236Z"
   },
   {
    "duration": 3,
    "start_time": "2021-11-16T11:59:12.005Z"
   },
   {
    "duration": 112,
    "start_time": "2021-11-16T12:00:33.446Z"
   },
   {
    "duration": 3,
    "start_time": "2021-11-16T12:02:14.453Z"
   },
   {
    "duration": 3,
    "start_time": "2021-11-16T12:02:39.512Z"
   },
   {
    "duration": 106,
    "start_time": "2021-11-16T12:03:03.460Z"
   }
  ],
  "kernelspec": {
   "display_name": "Python 3 (ipykernel)",
   "language": "python",
   "name": "python3"
  },
  "language_info": {
   "codemirror_mode": {
    "name": "ipython",
    "version": 3
   },
   "file_extension": ".py",
   "mimetype": "text/x-python",
   "name": "python",
   "nbconvert_exporter": "python",
   "pygments_lexer": "ipython3",
   "version": "3.9.5"
  },
  "toc": {
   "base_numbering": 1,
   "nav_menu": {},
   "number_sections": true,
   "sideBar": true,
   "skip_h1_title": false,
   "title_cell": "Table of Contents",
   "title_sidebar": "Contents",
   "toc_cell": false,
   "toc_position": {
    "height": "calc(100% - 180px)",
    "left": "10px",
    "top": "150px",
    "width": "271.4px"
   },
   "toc_section_display": true,
   "toc_window_display": true
  }
 },
 "nbformat": 4,
 "nbformat_minor": 2
}
